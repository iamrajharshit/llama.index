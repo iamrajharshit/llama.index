{
    "cells": [
        {
            "cell_type": "code",
            "execution_count": 1,
            "id": "YC4R6nkCp91d",
            "metadata": {
                "colab": {
                    "base_uri": "https://localhost:8080/"
                },
                "id": "YC4R6nkCp91d",
                "outputId": "1792fab3-0a0c-48c1-c3ce-f07091a06d3e",
                "tags": []
            },
            "outputs": [
                {
                    "name": "stdout",
                    "output_type": "stream",
                    "text": [
                        "--2023-06-25 16:21:58--  https://www.dropbox.com/s/948jr9cfs7fgj99/UBER.zip?dl=1\n",
                        "Resolving www.dropbox.com (www.dropbox.com)... 162.125.81.18, 2620:100:6031:18::a27d:5112\n",
                        "Connecting to www.dropbox.com (www.dropbox.com)|162.125.81.18|:443... connected.\n",
                        "HTTP request sent, awaiting response... 302 Found\n",
                        "Location: /s/dl/948jr9cfs7fgj99/UBER.zip [following]\n",
                        "--2023-06-25 16:21:59--  https://www.dropbox.com/s/dl/948jr9cfs7fgj99/UBER.zip\n",
                        "Reusing existing connection to www.dropbox.com:443.\n",
                        "HTTP request sent, awaiting response... 302 Found\n",
                        "Location: https://uc80449b1debebc93c84ea00a632.dl.dropboxusercontent.com/cd/0/get/B-oPTmIOhYaYQwnOW00S_NHajJVU5t8DoVv9gm5CkqAS_yY_UINbyz_g9-lah1Or-T1iwdl2louex-yPwLBw8VD_Yf6VsM83dFemhf8-NVqoqCBsqZKirG-CUzT-90fRpYK8r-ozo1E6f-7RkAMWB8UgG6BVQXKo8D9P1GNeSDyMVA/file?dl=1# [following]\n",
                        "--2023-06-25 16:21:59--  https://uc80449b1debebc93c84ea00a632.dl.dropboxusercontent.com/cd/0/get/B-oPTmIOhYaYQwnOW00S_NHajJVU5t8DoVv9gm5CkqAS_yY_UINbyz_g9-lah1Or-T1iwdl2louex-yPwLBw8VD_Yf6VsM83dFemhf8-NVqoqCBsqZKirG-CUzT-90fRpYK8r-ozo1E6f-7RkAMWB8UgG6BVQXKo8D9P1GNeSDyMVA/file?dl=1\n",
                        "Resolving uc80449b1debebc93c84ea00a632.dl.dropboxusercontent.com (uc80449b1debebc93c84ea00a632.dl.dropboxusercontent.com)... 162.125.81.15, 2620:100:6031:15::a27d:510f\n",
                        "Connecting to uc80449b1debebc93c84ea00a632.dl.dropboxusercontent.com (uc80449b1debebc93c84ea00a632.dl.dropboxusercontent.com)|162.125.81.15|:443... connected.\n",
                        "HTTP request sent, awaiting response... 200 OK\n",
                        "Length: 1820227 (1.7M) [application/binary]\n",
                        "Saving to: ‘data/UBER.zip’\n",
                        "\n",
                        "data/UBER.zip       100%[===================>]   1.74M  5.42MB/s    in 0.3s    \n",
                        "\n",
                        "2023-06-25 16:22:00 (5.42 MB/s) - ‘data/UBER.zip’ saved [1820227/1820227]\n",
                        "\n",
                        "Archive:  data/UBER.zip\n",
                        "   creating: data/UBER/\n",
                        "  inflating: data/UBER/UBER_2021.html  \n",
                        "  inflating: data/__MACOSX/UBER/._UBER_2021.html  \n",
                        "  inflating: data/UBER/UBER_2020.html  \n",
                        "  inflating: data/__MACOSX/UBER/._UBER_2020.html  \n",
                        "  inflating: data/UBER/UBER_2019.html  \n",
                        "  inflating: data/__MACOSX/UBER/._UBER_2019.html  \n",
                        "  inflating: data/UBER/UBER_2022.html  \n",
                        "  inflating: data/__MACOSX/UBER/._UBER_2022.html  \n"
                    ]
                }
            ],
            "source": [
                "# download files\n",
                "!mkdir data\n",
                "!wget \"https://www.dropbox.com/s/948jr9cfs7fgj99/UBER.zip?dl=1\" -O data/UBER.zip\n",
                "!unzip data/UBER.zip -d data"
            ]
        },
        {
            "cell_type": "code",
            "execution_count": 3,
            "id": "CuHeyb224pI2",
            "metadata": {
                "id": "CuHeyb224pI2"
            },
            "outputs": [
                {
                    "data": {
                        "text/html": [
                            "\n",
                            "  <style>\n",
                            "    pre {\n",
                            "        white-space: pre-wrap;\n",
                            "    }\n",
                            "  </style>\n",
                            "  "
                        ],
                        "text/plain": [
                            "<IPython.core.display.HTML object>"
                        ]
                    },
                    "metadata": {},
                    "output_type": "display_data"
                }
            ],
            "source": [
                "# set text wrapping\n",
                "from IPython.display import HTML, display\n",
                "\n",
                "def set_css():\n",
                "  display(HTML('''\n",
                "  <style>\n",
                "    pre {\n",
                "        white-space: pre-wrap;\n",
                "    }\n",
                "  </style>\n",
                "  '''))\n",
                "get_ipython().events.register('pre_run_cell', set_css)"
            ]
        },
        {
            "cell_type": "code",
            "execution_count": 5,
            "id": "11963cb6",
            "metadata": {},
            "outputs": [
                {
                    "data": {
                        "text/html": [
                            "\n",
                            "  <style>\n",
                            "    pre {\n",
                            "        white-space: pre-wrap;\n",
                            "    }\n",
                            "  </style>\n",
                            "  "
                        ],
                        "text/plain": [
                            "<IPython.core.display.HTML object>"
                        ]
                    },
                    "metadata": {},
                    "output_type": "display_data"
                },
                {
                    "data": {
                        "text/html": [
                            "\n",
                            "  <style>\n",
                            "    pre {\n",
                            "        white-space: pre-wrap;\n",
                            "    }\n",
                            "  </style>\n",
                            "  "
                        ],
                        "text/plain": [
                            "<IPython.core.display.HTML object>"
                        ]
                    },
                    "metadata": {},
                    "output_type": "display_data"
                },
                {
                    "name": "stdout",
                    "output_type": "stream",
                    "text": [
                        "Collecting llama_index\n",
                        "  Downloading llama_index-0.6.33-py3-none-any.whl (539 kB)\n",
                        "\u001b[2K     \u001b[90m━━━━━━━━━━━━━━━━━━━━━━━━━━━━━━━━━━━━━━\u001b[0m \u001b[32m539.8/539.8 kB\u001b[0m \u001b[31m11.2 MB/s\u001b[0m eta \u001b[36m0:00:00\u001b[0m00:01\u001b[0m\n",
                        "\u001b[?25hCollecting dataclasses-json (from llama_index)\n",
                        "  Downloading dataclasses_json-0.5.8-py3-none-any.whl (26 kB)\n",
                        "Collecting langchain>=0.0.154 (from llama_index)\n",
                        "  Downloading langchain-0.0.215-py3-none-any.whl (1.1 MB)\n",
                        "\u001b[2K     \u001b[90m━━━━━━━━━━━━━━━━━━━━━━━━━━━━━━━━━━━━━━━━\u001b[0m \u001b[32m1.1/1.1 MB\u001b[0m \u001b[31m24.8 MB/s\u001b[0m eta \u001b[36m0:00:00\u001b[0m:00:01\u001b[0m\n",
                        "\u001b[?25hCollecting sqlalchemy>=2.0.15 (from llama_index)\n",
                        "  Downloading SQLAlchemy-2.0.17-cp310-cp310-manylinux_2_17_x86_64.manylinux2014_x86_64.whl (2.7 MB)\n",
                        "\u001b[2K     \u001b[90m━━━━━━━━━━━━━━━━━━━━━━━━━━━━━━━━━━━━━━━━\u001b[0m \u001b[32m2.7/2.7 MB\u001b[0m \u001b[31m50.5 MB/s\u001b[0m eta \u001b[36m0:00:00\u001b[0m:00:01\u001b[0m\n",
                        "\u001b[?25hRequirement already satisfied: numpy in /home/codespace/.local/lib/python3.10/site-packages (from llama_index) (1.24.3)\n",
                        "Requirement already satisfied: tenacity<9.0.0,>=8.2.0 in /home/codespace/.local/lib/python3.10/site-packages (from llama_index) (8.2.2)\n",
                        "Collecting openai>=0.26.4 (from llama_index)\n",
                        "  Downloading openai-0.27.8-py3-none-any.whl (73 kB)\n",
                        "\u001b[2K     \u001b[90m━━━━━━━━━━━━━━━━━━━━━━━━━━━━━━━━━━━━━━━━\u001b[0m \u001b[32m73.6/73.6 kB\u001b[0m \u001b[31m3.8 MB/s\u001b[0m eta \u001b[36m0:00:00\u001b[0m\n",
                        "\u001b[?25hRequirement already satisfied: pandas in /home/codespace/.local/lib/python3.10/site-packages (from llama_index) (2.0.2)\n",
                        "Collecting urllib3<2 (from llama_index)\n",
                        "  Downloading urllib3-1.26.16-py2.py3-none-any.whl (143 kB)\n",
                        "\u001b[2K     \u001b[90m━━━━━━━━━━━━━━━━━━━━━━━━━━━━━━━━━━━━━━━\u001b[0m \u001b[32m143.1/143.1 kB\u001b[0m \u001b[31m7.5 MB/s\u001b[0m eta \u001b[36m0:00:00\u001b[0m\n",
                        "\u001b[?25hCollecting fsspec>=2023.5.0 (from llama_index)\n",
                        "  Downloading fsspec-2023.6.0-py3-none-any.whl (163 kB)\n",
                        "\u001b[2K     \u001b[90m━━━━━━━━━━━━━━━━━━━━━━━━━━━━━━━━━━━━━━━\u001b[0m \u001b[32m163.8/163.8 kB\u001b[0m \u001b[31m6.6 MB/s\u001b[0m eta \u001b[36m0:00:00\u001b[0m\n",
                        "\u001b[?25hCollecting typing-inspect==0.8.0 (from llama_index)\n",
                        "  Downloading typing_inspect-0.8.0-py3-none-any.whl (8.7 kB)\n",
                        "Collecting typing-extensions==4.5.0 (from llama_index)\n",
                        "  Downloading typing_extensions-4.5.0-py3-none-any.whl (27 kB)\n",
                        "Collecting bs4 (from llama_index)\n",
                        "  Downloading bs4-0.0.1.tar.gz (1.1 kB)\n",
                        "  Preparing metadata (setup.py) ... \u001b[?25ldone\n",
                        "\u001b[?25hCollecting tiktoken (from llama_index)\n",
                        "  Downloading tiktoken-0.4.0-cp310-cp310-manylinux_2_17_x86_64.manylinux2014_x86_64.whl (1.7 MB)\n",
                        "\u001b[2K     \u001b[90m━━━━━━━━━━━━━━━━━━━━━━━━━━━━━━━━━━━━━━━━\u001b[0m \u001b[32m1.7/1.7 MB\u001b[0m \u001b[31m38.2 MB/s\u001b[0m eta \u001b[36m0:00:00\u001b[0m:00:01\u001b[0m\n",
                        "\u001b[?25hCollecting mypy-extensions>=0.3.0 (from typing-inspect==0.8.0->llama_index)\n",
                        "  Downloading mypy_extensions-1.0.0-py3-none-any.whl (4.7 kB)\n",
                        "Requirement already satisfied: PyYAML>=5.4.1 in /home/codespace/.local/lib/python3.10/site-packages (from langchain>=0.0.154->llama_index) (6.0)\n",
                        "Collecting aiohttp<4.0.0,>=3.8.3 (from langchain>=0.0.154->llama_index)\n",
                        "  Downloading aiohttp-3.8.4-cp310-cp310-manylinux_2_17_x86_64.manylinux2014_x86_64.whl (1.0 MB)\n",
                        "\u001b[2K     \u001b[90m━━━━━━━━━━━━━━━━━━━━━━━━━━━━━━━━━━━━━━━━\u001b[0m \u001b[32m1.0/1.0 MB\u001b[0m \u001b[31m26.2 MB/s\u001b[0m eta \u001b[36m0:00:00\u001b[0m:00:01\u001b[0m\n",
                        "\u001b[?25hCollecting async-timeout<5.0.0,>=4.0.0 (from langchain>=0.0.154->llama_index)\n",
                        "  Downloading async_timeout-4.0.2-py3-none-any.whl (5.8 kB)\n",
                        "Collecting langchainplus-sdk>=0.0.17 (from langchain>=0.0.154->llama_index)\n",
                        "  Downloading langchainplus_sdk-0.0.17-py3-none-any.whl (25 kB)\n",
                        "Collecting numexpr<3.0.0,>=2.8.4 (from langchain>=0.0.154->llama_index)\n",
                        "  Downloading numexpr-2.8.4-cp310-cp310-manylinux_2_17_x86_64.manylinux2014_x86_64.whl (381 kB)\n",
                        "\u001b[2K     \u001b[90m━━━━━━━━━━━━━━━━━━━━━━━━━━━━━━━━━━━━━━\u001b[0m \u001b[32m381.4/381.4 kB\u001b[0m \u001b[31m18.2 MB/s\u001b[0m eta \u001b[36m0:00:00\u001b[0m\n",
                        "\u001b[?25hCollecting openapi-schema-pydantic<2.0,>=1.2 (from langchain>=0.0.154->llama_index)\n",
                        "  Downloading openapi_schema_pydantic-1.2.4-py3-none-any.whl (90 kB)\n",
                        "\u001b[2K     \u001b[90m━━━━━━━━━━━━━━━━━━━━━━━━━━━━━━━━━━━━━━━━\u001b[0m \u001b[32m90.0/90.0 kB\u001b[0m \u001b[31m4.5 MB/s\u001b[0m eta \u001b[36m0:00:00\u001b[0m\n",
                        "\u001b[?25hCollecting pydantic<2,>=1 (from langchain>=0.0.154->llama_index)\n",
                        "  Downloading pydantic-1.10.9-cp310-cp310-manylinux_2_17_x86_64.manylinux2014_x86_64.whl (3.1 MB)\n",
                        "\u001b[2K     \u001b[90m━━━━━━━━━━━━━━━━━━━━━━━━━━━━━━━━━━━━━━━━\u001b[0m \u001b[32m3.1/3.1 MB\u001b[0m \u001b[31m56.8 MB/s\u001b[0m eta \u001b[36m0:00:00\u001b[0m:00:01\u001b[0m\n",
                        "\u001b[?25hRequirement already satisfied: requests<3,>=2 in /home/codespace/.local/lib/python3.10/site-packages (from langchain>=0.0.154->llama_index) (2.31.0)\n",
                        "Collecting marshmallow<4.0.0,>=3.3.0 (from dataclasses-json->llama_index)\n",
                        "  Downloading marshmallow-3.19.0-py3-none-any.whl (49 kB)\n",
                        "\u001b[2K     \u001b[90m━━━━━━━━━━━━━━━━━━━━━━━━━━━━━━━━━━━━━━━━\u001b[0m \u001b[32m49.1/49.1 kB\u001b[0m \u001b[31m2.2 MB/s\u001b[0m eta \u001b[36m0:00:00\u001b[0m\n",
                        "\u001b[?25hCollecting marshmallow-enum<2.0.0,>=1.5.1 (from dataclasses-json->llama_index)\n",
                        "  Downloading marshmallow_enum-1.5.1-py2.py3-none-any.whl (4.2 kB)\n",
                        "Collecting tqdm (from openai>=0.26.4->llama_index)\n",
                        "  Downloading tqdm-4.65.0-py3-none-any.whl (77 kB)\n",
                        "\u001b[2K     \u001b[90m━━━━━━━━━━━━━━━━━━━━━━━━━━━━━━━━━━━━━━━━\u001b[0m \u001b[32m77.1/77.1 kB\u001b[0m \u001b[31m3.3 MB/s\u001b[0m eta \u001b[36m0:00:00\u001b[0m\n",
                        "\u001b[?25hCollecting greenlet!=0.4.17 (from sqlalchemy>=2.0.15->llama_index)\n",
                        "  Downloading greenlet-2.0.2-cp310-cp310-manylinux_2_17_x86_64.manylinux2014_x86_64.whl (613 kB)\n",
                        "\u001b[2K     \u001b[90m━━━━━━━━━━━━━━━━━━━━━━━━━━━━━━━━━━━━━━\u001b[0m \u001b[32m613.7/613.7 kB\u001b[0m \u001b[31m24.8 MB/s\u001b[0m eta \u001b[36m0:00:00\u001b[0m\n",
                        "\u001b[?25hRequirement already satisfied: beautifulsoup4 in /home/codespace/.local/lib/python3.10/site-packages (from bs4->llama_index) (4.12.2)\n",
                        "Requirement already satisfied: python-dateutil>=2.8.2 in /home/codespace/.local/lib/python3.10/site-packages (from pandas->llama_index) (2.8.2)\n",
                        "Requirement already satisfied: pytz>=2020.1 in /home/codespace/.local/lib/python3.10/site-packages (from pandas->llama_index) (2023.3)\n",
                        "Requirement already satisfied: tzdata>=2022.1 in /home/codespace/.local/lib/python3.10/site-packages (from pandas->llama_index) (2023.3)\n",
                        "Collecting regex>=2022.1.18 (from tiktoken->llama_index)\n",
                        "  Downloading regex-2023.6.3-cp310-cp310-manylinux_2_17_x86_64.manylinux2014_x86_64.whl (770 kB)\n",
                        "\u001b[2K     \u001b[90m━━━━━━━━━━━━━━━━━━━━━━━━━━━━━━━━━━━━━━\u001b[0m \u001b[32m770.4/770.4 kB\u001b[0m \u001b[31m29.2 MB/s\u001b[0m eta \u001b[36m0:00:00\u001b[0m\n",
                        "\u001b[?25hRequirement already satisfied: attrs>=17.3.0 in /home/codespace/.local/lib/python3.10/site-packages (from aiohttp<4.0.0,>=3.8.3->langchain>=0.0.154->llama_index) (23.1.0)\n",
                        "Requirement already satisfied: charset-normalizer<4.0,>=2.0 in /home/codespace/.local/lib/python3.10/site-packages (from aiohttp<4.0.0,>=3.8.3->langchain>=0.0.154->llama_index) (3.1.0)\n",
                        "Collecting multidict<7.0,>=4.5 (from aiohttp<4.0.0,>=3.8.3->langchain>=0.0.154->llama_index)\n",
                        "  Downloading multidict-6.0.4-cp310-cp310-manylinux_2_17_x86_64.manylinux2014_x86_64.whl (114 kB)\n",
                        "\u001b[2K     \u001b[90m━━━━━━━━━━━━━━━━━━━━━━━━━━━━━━━━━━━━━━━\u001b[0m \u001b[32m114.5/114.5 kB\u001b[0m \u001b[31m7.6 MB/s\u001b[0m eta \u001b[36m0:00:00\u001b[0m\n",
                        "\u001b[?25hCollecting yarl<2.0,>=1.0 (from aiohttp<4.0.0,>=3.8.3->langchain>=0.0.154->llama_index)\n",
                        "  Downloading yarl-1.9.2-cp310-cp310-manylinux_2_17_x86_64.manylinux2014_x86_64.whl (268 kB)\n",
                        "\u001b[2K     \u001b[90m━━━━━━━━━━━━━━━━━━━━━━━━━━━━━━━━━━━━━━\u001b[0m \u001b[32m268.8/268.8 kB\u001b[0m \u001b[31m14.6 MB/s\u001b[0m eta \u001b[36m0:00:00\u001b[0m\n",
                        "\u001b[?25hCollecting frozenlist>=1.1.1 (from aiohttp<4.0.0,>=3.8.3->langchain>=0.0.154->llama_index)\n",
                        "  Downloading frozenlist-1.3.3-cp310-cp310-manylinux_2_5_x86_64.manylinux1_x86_64.manylinux_2_17_x86_64.manylinux2014_x86_64.whl (149 kB)\n",
                        "\u001b[2K     \u001b[90m━━━━━━━━━━━━━━━━━━━━━━━━━━━━━━━━━━━━━━━\u001b[0m \u001b[32m149.6/149.6 kB\u001b[0m \u001b[31m9.4 MB/s\u001b[0m eta \u001b[36m0:00:00\u001b[0m\n",
                        "\u001b[?25hCollecting aiosignal>=1.1.2 (from aiohttp<4.0.0,>=3.8.3->langchain>=0.0.154->llama_index)\n",
                        "  Downloading aiosignal-1.3.1-py3-none-any.whl (7.6 kB)\n",
                        "Requirement already satisfied: packaging>=17.0 in /home/codespace/.local/lib/python3.10/site-packages (from marshmallow<4.0.0,>=3.3.0->dataclasses-json->llama_index) (23.1)\n",
                        "Requirement already satisfied: six>=1.5 in /home/codespace/.local/lib/python3.10/site-packages (from python-dateutil>=2.8.2->pandas->llama_index) (1.16.0)\n",
                        "Requirement already satisfied: idna<4,>=2.5 in /home/codespace/.local/lib/python3.10/site-packages (from requests<3,>=2->langchain>=0.0.154->llama_index) (3.4)\n",
                        "Requirement already satisfied: certifi>=2017.4.17 in /home/codespace/.local/lib/python3.10/site-packages (from requests<3,>=2->langchain>=0.0.154->llama_index) (2023.5.7)\n",
                        "Requirement already satisfied: soupsieve>1.2 in /home/codespace/.local/lib/python3.10/site-packages (from beautifulsoup4->bs4->llama_index) (2.4.1)\n",
                        "Building wheels for collected packages: bs4\n",
                        "  Building wheel for bs4 (setup.py) ... \u001b[?25ldone\n",
                        "\u001b[?25h  Created wheel for bs4: filename=bs4-0.0.1-py3-none-any.whl size=1257 sha256=f814c5a802f96a3fd54c61d65e7b71372c09067d22bf86b9532fffaed0028d45\n",
                        "  Stored in directory: /home/codespace/.cache/pip/wheels/25/42/45/b773edc52acb16cd2db4cf1a0b47117e2f69bb4eb300ed0e70\n",
                        "Successfully built bs4\n",
                        "Installing collected packages: urllib3, typing-extensions, tqdm, regex, numexpr, mypy-extensions, multidict, marshmallow, greenlet, fsspec, frozenlist, async-timeout, yarl, typing-inspect, sqlalchemy, pydantic, marshmallow-enum, bs4, aiosignal, tiktoken, openapi-schema-pydantic, langchainplus-sdk, dataclasses-json, aiohttp, openai, langchain, llama_index\n",
                        "  Attempting uninstall: urllib3\n",
                        "    Found existing installation: urllib3 2.0.3\n",
                        "    Uninstalling urllib3-2.0.3:\n",
                        "      Successfully uninstalled urllib3-2.0.3\n",
                        "  Attempting uninstall: typing-extensions\n",
                        "    Found existing installation: typing_extensions 4.6.3\n",
                        "    Uninstalling typing_extensions-4.6.3:\n",
                        "      Successfully uninstalled typing_extensions-4.6.3\n",
                        "Successfully installed aiohttp-3.8.4 aiosignal-1.3.1 async-timeout-4.0.2 bs4-0.0.1 dataclasses-json-0.5.8 frozenlist-1.3.3 fsspec-2023.6.0 greenlet-2.0.2 langchain-0.0.215 langchainplus-sdk-0.0.17 llama_index-0.6.33 marshmallow-3.19.0 marshmallow-enum-1.5.1 multidict-6.0.4 mypy-extensions-1.0.0 numexpr-2.8.4 openai-0.27.8 openapi-schema-pydantic-1.2.4 pydantic-1.10.9 regex-2023.6.3 sqlalchemy-2.0.17 tiktoken-0.4.0 tqdm-4.65.0 typing-extensions-4.5.0 typing-inspect-0.8.0 urllib3-1.26.16 yarl-1.9.2\n"
                    ]
                }
            ],
            "source": [
                "! pip install llama_index"
            ]
        },
        {
            "cell_type": "code",
            "execution_count": 6,
            "id": "3a5cb155-cfe0-4c89-a2b4-c61d5b7cbe61",
            "metadata": {
                "id": "3a5cb155-cfe0-4c89-a2b4-c61d5b7cbe61"
            },
            "outputs": [
                {
                    "data": {
                        "text/html": [
                            "\n",
                            "  <style>\n",
                            "    pre {\n",
                            "        white-space: pre-wrap;\n",
                            "    }\n",
                            "  </style>\n",
                            "  "
                        ],
                        "text/plain": [
                            "<IPython.core.display.HTML object>"
                        ]
                    },
                    "metadata": {},
                    "output_type": "display_data"
                },
                {
                    "data": {
                        "text/html": [
                            "\n",
                            "  <style>\n",
                            "    pre {\n",
                            "        white-space: pre-wrap;\n",
                            "    }\n",
                            "  </style>\n",
                            "  "
                        ],
                        "text/plain": [
                            "<IPython.core.display.HTML object>"
                        ]
                    },
                    "metadata": {},
                    "output_type": "display_data"
                },
                {
                    "name": "stderr",
                    "output_type": "stream",
                    "text": [
                        "/workspaces/llama.index/.conda/lib/python3.10/site-packages/tqdm/auto.py:21: TqdmWarning: IProgress not found. Please update jupyter and ipywidgets. See https://ipywidgets.readthedocs.io/en/stable/user_install.html\n",
                        "  from .autonotebook import tqdm as notebook_tqdm\n"
                    ]
                }
            ],
            "source": [
                "from llama_index import download_loader, VectorStoreIndex, ServiceContext\n",
                "from pathlib import Path"
            ]
        },
        {
            "cell_type": "markdown",
            "id": "354ddbdf-0045-474b-b6f2-1b4c22ad360a",
            "metadata": {
                "id": "354ddbdf-0045-474b-b6f2-1b4c22ad360a",
                "tags": []
            },
            "source": [
                "### Ingest Unstructured Data Through the Unstructured.io Reader\n",
                "\n",
                "Leverage the capabilities of Unstructured.io HTML parsing.\n",
                "Downloaded through LlamaHub."
            ]
        },
        {
            "cell_type": "code",
            "execution_count": 7,
            "id": "61fed4f1-8cca-4d98-b916-a3184279e256",
            "metadata": {
                "tags": []
            },
            "outputs": [
                {
                    "data": {
                        "text/html": [
                            "\n",
                            "  <style>\n",
                            "    pre {\n",
                            "        white-space: pre-wrap;\n",
                            "    }\n",
                            "  </style>\n",
                            "  "
                        ],
                        "text/plain": [
                            "<IPython.core.display.HTML object>"
                        ]
                    },
                    "metadata": {},
                    "output_type": "display_data"
                },
                {
                    "data": {
                        "text/html": [
                            "\n",
                            "  <style>\n",
                            "    pre {\n",
                            "        white-space: pre-wrap;\n",
                            "    }\n",
                            "  </style>\n",
                            "  "
                        ],
                        "text/plain": [
                            "<IPython.core.display.HTML object>"
                        ]
                    },
                    "metadata": {},
                    "output_type": "display_data"
                }
            ],
            "source": [
                "years = [2022, 2021, 2020, 2019]"
            ]
        },
        {
            "cell_type": "code",
            "execution_count": 8,
            "id": "0371970e-c11c-4534-aa22-7cfdfe411bb3",
            "metadata": {
                "id": "0371970e-c11c-4534-aa22-7cfdfe411bb3"
            },
            "outputs": [
                {
                    "data": {
                        "text/html": [
                            "\n",
                            "  <style>\n",
                            "    pre {\n",
                            "        white-space: pre-wrap;\n",
                            "    }\n",
                            "  </style>\n",
                            "  "
                        ],
                        "text/plain": [
                            "<IPython.core.display.HTML object>"
                        ]
                    },
                    "metadata": {},
                    "output_type": "display_data"
                },
                {
                    "data": {
                        "text/html": [
                            "\n",
                            "  <style>\n",
                            "    pre {\n",
                            "        white-space: pre-wrap;\n",
                            "    }\n",
                            "  </style>\n",
                            "  "
                        ],
                        "text/plain": [
                            "<IPython.core.display.HTML object>"
                        ]
                    },
                    "metadata": {},
                    "output_type": "display_data"
                },
                {
                    "name": "stdout",
                    "output_type": "stream",
                    "text": [
                        "Collecting unstructured (from -r /workspaces/llama.index/.conda/lib/python3.10/site-packages/llama_index/readers/llamahub_modules/file/unstructured/requirements.txt (line 1))\n",
                        "  Downloading unstructured-0.7.8-py3-none-any.whl (1.4 MB)\n",
                        "\u001b[2K     ━━━━━━━━━━━━━━━━━━━━━━━━━━━━━━━━━━━━━━━━ 1.4/1.4 MB 24.4 MB/s eta 0:00:00\n",
                        "\u001b[?25hCollecting nltk (from -r /workspaces/llama.index/.conda/lib/python3.10/site-packages/llama_index/readers/llamahub_modules/file/unstructured/requirements.txt (line 2))\n",
                        "  Downloading nltk-3.8.1-py3-none-any.whl (1.5 MB)\n",
                        "\u001b[2K     ━━━━━━━━━━━━━━━━━━━━━━━━━━━━━━━━━━━━━━━━ 1.5/1.5 MB 39.1 MB/s eta 0:00:001\n",
                        "\u001b[?25hCollecting argilla (from unstructured->-r /workspaces/llama.index/.conda/lib/python3.10/site-packages/llama_index/readers/llamahub_modules/file/unstructured/requirements.txt (line 1))\n",
                        "  Downloading argilla-1.11.0-py3-none-any.whl (2.5 MB)\n",
                        "\u001b[2K     ━━━━━━━━━━━━━━━━━━━━━━━━━━━━━━━━━━━━━━━━ 2.5/2.5 MB 50.0 MB/s eta 0:00:001\n",
                        "\u001b[?25hCollecting chardet (from unstructured->-r /workspaces/llama.index/.conda/lib/python3.10/site-packages/llama_index/readers/llamahub_modules/file/unstructured/requirements.txt (line 1))\n",
                        "  Downloading chardet-5.1.0-py3-none-any.whl (199 kB)\n",
                        "\u001b[2K     ━━━━━━━━━━━━━━━━━━━━━━━━━━━━━━━━━━━━━━ 199.1/199.1 kB 12.0 MB/s eta 0:00:00\n",
                        "\u001b[?25hCollecting filetype (from unstructured->-r /workspaces/llama.index/.conda/lib/python3.10/site-packages/llama_index/readers/llamahub_modules/file/unstructured/requirements.txt (line 1))\n",
                        "  Downloading filetype-1.2.0-py2.py3-none-any.whl (19 kB)\n",
                        "Collecting lxml (from unstructured->-r /workspaces/llama.index/.conda/lib/python3.10/site-packages/llama_index/readers/llamahub_modules/file/unstructured/requirements.txt (line 1))\n",
                        "  Downloading lxml-4.9.2-cp310-cp310-manylinux_2_17_x86_64.manylinux2014_x86_64.manylinux_2_24_x86_64.whl (7.1 MB)\n",
                        "\u001b[2K     ━━━━━━━━━━━━━━━━━━━━━━━━━━━━━━━━━━━━━━━━ 7.1/7.1 MB 66.4 MB/s eta 0:00:001\n",
                        "\u001b[?25hCollecting msg-parser (from unstructured->-r /workspaces/llama.index/.conda/lib/python3.10/site-packages/llama_index/readers/llamahub_modules/file/unstructured/requirements.txt (line 1))\n",
                        "  Downloading msg_parser-1.2.0-py2.py3-none-any.whl (101 kB)\n",
                        "\u001b[2K     ━━━━━━━━━━━━━━━━━━━━━━━━━━━━━━━━━━━━━━━ 101.8/101.8 kB 6.5 MB/s eta 0:00:00\n",
                        "\u001b[?25hCollecting openpyxl (from unstructured->-r /workspaces/llama.index/.conda/lib/python3.10/site-packages/llama_index/readers/llamahub_modules/file/unstructured/requirements.txt (line 1))\n",
                        "  Downloading openpyxl-3.1.2-py2.py3-none-any.whl (249 kB)\n",
                        "\u001b[2K     ━━━━━━━━━━━━━━━━━━━━━━━━━━━━━━━━━━━━━━ 250.0/250.0 kB 14.0 MB/s eta 0:00:00\n",
                        "\u001b[?25hRequirement already satisfied: pandas in /home/codespace/.local/lib/python3.10/site-packages (from unstructured->-r /workspaces/llama.index/.conda/lib/python3.10/site-packages/llama_index/readers/llamahub_modules/file/unstructured/requirements.txt (line 1)) (2.0.2)\n",
                        "Collecting pdf2image (from unstructured->-r /workspaces/llama.index/.conda/lib/python3.10/site-packages/llama_index/readers/llamahub_modules/file/unstructured/requirements.txt (line 1))\n",
                        "  Downloading pdf2image-1.16.3-py3-none-any.whl (11 kB)\n",
                        "Collecting pdfminer.six (from unstructured->-r /workspaces/llama.index/.conda/lib/python3.10/site-packages/llama_index/readers/llamahub_modules/file/unstructured/requirements.txt (line 1))\n",
                        "  Downloading pdfminer.six-20221105-py3-none-any.whl (5.6 MB)\n",
                        "\u001b[2K     ━━━━━━━━━━━━━━━━━━━━━━━━━━━━━━━━━━━━━━━━ 5.6/5.6 MB 73.5 MB/s eta 0:00:001\n",
                        "\u001b[?25hRequirement already satisfied: pillow in /home/codespace/.local/lib/python3.10/site-packages (from unstructured->-r /workspaces/llama.index/.conda/lib/python3.10/site-packages/llama_index/readers/llamahub_modules/file/unstructured/requirements.txt (line 1)) (9.5.0)\n",
                        "Collecting pypandoc (from unstructured->-r /workspaces/llama.index/.conda/lib/python3.10/site-packages/llama_index/readers/llamahub_modules/file/unstructured/requirements.txt (line 1))\n",
                        "  Downloading pypandoc-1.11-py3-none-any.whl (20 kB)\n",
                        "Collecting python-docx (from unstructured->-r /workspaces/llama.index/.conda/lib/python3.10/site-packages/llama_index/readers/llamahub_modules/file/unstructured/requirements.txt (line 1))\n",
                        "  Downloading python-docx-0.8.11.tar.gz (5.6 MB)\n",
                        "\u001b[2K     ━━━━━━━━━━━━━━━━━━━━━━━━━━━━━━━━━━━━━━━━ 5.6/5.6 MB 60.8 MB/s eta 0:00:001\n",
                        "\u001b[?25h  Preparing metadata (setup.py): started\n",
                        "  Preparing metadata (setup.py): finished with status 'done'\n",
                        "Collecting python-pptx (from unstructured->-r /workspaces/llama.index/.conda/lib/python3.10/site-packages/llama_index/readers/llamahub_modules/file/unstructured/requirements.txt (line 1))\n",
                        "  Downloading python-pptx-0.6.21.tar.gz (10.1 MB)\n",
                        "\u001b[2K     ━━━━━━━━━━━━━━━━━━━━━━━━━━━━━━━━━━━━━━━━ 10.1/10.1 MB 55.2 MB/s eta 0:00:00\n",
                        "\u001b[?25h  Preparing metadata (setup.py): started\n",
                        "  Preparing metadata (setup.py): finished with status 'done'\n",
                        "Collecting python-magic (from unstructured->-r /workspaces/llama.index/.conda/lib/python3.10/site-packages/llama_index/readers/llamahub_modules/file/unstructured/requirements.txt (line 1))\n",
                        "  Downloading python_magic-0.4.27-py2.py3-none-any.whl (13 kB)\n",
                        "Collecting markdown (from unstructured->-r /workspaces/llama.index/.conda/lib/python3.10/site-packages/llama_index/readers/llamahub_modules/file/unstructured/requirements.txt (line 1))\n",
                        "  Downloading Markdown-3.4.3-py3-none-any.whl (93 kB)\n",
                        "\u001b[2K     ━━━━━━━━━━━━━━━━━━━━━━━━━━━━━━━━━━━━━━━━ 93.9/93.9 kB 6.4 MB/s eta 0:00:00\n",
                        "\u001b[?25hRequirement already satisfied: requests in /home/codespace/.local/lib/python3.10/site-packages (from unstructured->-r /workspaces/llama.index/.conda/lib/python3.10/site-packages/llama_index/readers/llamahub_modules/file/unstructured/requirements.txt (line 1)) (2.31.0)\n",
                        "Collecting tabulate (from unstructured->-r /workspaces/llama.index/.conda/lib/python3.10/site-packages/llama_index/readers/llamahub_modules/file/unstructured/requirements.txt (line 1))\n",
                        "  Downloading tabulate-0.9.0-py3-none-any.whl (35 kB)\n",
                        "Collecting xlrd (from unstructured->-r /workspaces/llama.index/.conda/lib/python3.10/site-packages/llama_index/readers/llamahub_modules/file/unstructured/requirements.txt (line 1))\n",
                        "  Downloading xlrd-2.0.1-py2.py3-none-any.whl (96 kB)\n",
                        "\u001b[2K     ━━━━━━━━━━━━━━━━━━━━━━━━━━━━━━━━━━━━━━━━ 96.5/96.5 kB 6.7 MB/s eta 0:00:00\n",
                        "\u001b[?25hCollecting click (from nltk->-r /workspaces/llama.index/.conda/lib/python3.10/site-packages/llama_index/readers/llamahub_modules/file/unstructured/requirements.txt (line 2))\n",
                        "  Downloading click-8.1.3-py3-none-any.whl (96 kB)\n",
                        "\u001b[2K     ━━━━━━━━━━━━━━━━━━━━━━━━━━━━━━━━━━━━━━━━ 96.6/96.6 kB 6.4 MB/s eta 0:00:00\n",
                        "\u001b[?25hRequirement already satisfied: joblib in /home/codespace/.local/lib/python3.10/site-packages (from nltk->-r /workspaces/llama.index/.conda/lib/python3.10/site-packages/llama_index/readers/llamahub_modules/file/unstructured/requirements.txt (line 2)) (1.2.0)\n",
                        "Requirement already satisfied: regex>=2021.8.3 in ./.conda/lib/python3.10/site-packages (from nltk->-r /workspaces/llama.index/.conda/lib/python3.10/site-packages/llama_index/readers/llamahub_modules/file/unstructured/requirements.txt (line 2)) (2023.6.3)\n",
                        "Requirement already satisfied: tqdm in ./.conda/lib/python3.10/site-packages (from nltk->-r /workspaces/llama.index/.conda/lib/python3.10/site-packages/llama_index/readers/llamahub_modules/file/unstructured/requirements.txt (line 2)) (4.65.0)\n",
                        "Collecting httpx<0.24,>=0.15 (from argilla->unstructured->-r /workspaces/llama.index/.conda/lib/python3.10/site-packages/llama_index/readers/llamahub_modules/file/unstructured/requirements.txt (line 1))\n",
                        "  Downloading httpx-0.23.3-py3-none-any.whl (71 kB)\n",
                        "\u001b[2K     ━━━━━━━━━━━━━━━━━━━━━━━━━━━━━━━━━━━━━━━━ 71.5/71.5 kB 4.3 MB/s eta 0:00:00\n",
                        "\u001b[?25hCollecting deprecated~=1.2.0 (from argilla->unstructured->-r /workspaces/llama.index/.conda/lib/python3.10/site-packages/llama_index/readers/llamahub_modules/file/unstructured/requirements.txt (line 1))\n",
                        "  Downloading Deprecated-1.2.14-py2.py3-none-any.whl (9.6 kB)\n",
                        "Requirement already satisfied: packaging>=20.0 in /home/codespace/.local/lib/python3.10/site-packages (from argilla->unstructured->-r /workspaces/llama.index/.conda/lib/python3.10/site-packages/llama_index/readers/llamahub_modules/file/unstructured/requirements.txt (line 1)) (23.1)\n",
                        "Collecting pandas (from unstructured->-r /workspaces/llama.index/.conda/lib/python3.10/site-packages/llama_index/readers/llamahub_modules/file/unstructured/requirements.txt (line 1))\n",
                        "  Downloading pandas-1.5.3-cp310-cp310-manylinux_2_17_x86_64.manylinux2014_x86_64.whl (12.1 MB)\n",
                        "\u001b[2K     ━━━━━━━━━━━━━━━━━━━━━━━━━━━━━━━━━━━━━━━━ 12.1/12.1 MB 72.4 MB/s eta 0:00:00\n",
                        "\u001b[?25hRequirement already satisfied: pydantic>=1.10.7 in ./.conda/lib/python3.10/site-packages (from argilla->unstructured->-r /workspaces/llama.index/.conda/lib/python3.10/site-packages/llama_index/readers/llamahub_modules/file/unstructured/requirements.txt (line 1)) (1.10.9)\n",
                        "Collecting wrapt<1.15,>=1.13 (from argilla->unstructured->-r /workspaces/llama.index/.conda/lib/python3.10/site-packages/llama_index/readers/llamahub_modules/file/unstructured/requirements.txt (line 1))\n",
                        "  Downloading wrapt-1.14.1-cp310-cp310-manylinux_2_5_x86_64.manylinux1_x86_64.manylinux_2_17_x86_64.manylinux2014_x86_64.whl (77 kB)\n",
                        "\u001b[2K     ━━━━━━━━━━━━━━━━━━━━━━━━━━━━━━━━━━━━━━━━ 77.9/77.9 kB 4.7 MB/s eta 0:00:00\n",
                        "\u001b[?25hCollecting numpy<1.24.0 (from argilla->unstructured->-r /workspaces/llama.index/.conda/lib/python3.10/site-packages/llama_index/readers/llamahub_modules/file/unstructured/requirements.txt (line 1))\n",
                        "  Downloading numpy-1.23.5-cp310-cp310-manylinux_2_17_x86_64.manylinux2014_x86_64.whl (17.1 MB)\n",
                        "\u001b[2K     ━━━━━━━━━━━━━━━━━━━━━━━━━━━━━━━━━━━━━━━━ 17.1/17.1 MB 60.2 MB/s eta 0:00:00\n",
                        "\u001b[?25hCollecting backoff (from argilla->unstructured->-r /workspaces/llama.index/.conda/lib/python3.10/site-packages/llama_index/readers/llamahub_modules/file/unstructured/requirements.txt (line 1))\n",
                        "  Downloading backoff-2.2.1-py3-none-any.whl (15 kB)\n",
                        "Collecting monotonic (from argilla->unstructured->-r /workspaces/llama.index/.conda/lib/python3.10/site-packages/llama_index/readers/llamahub_modules/file/unstructured/requirements.txt (line 1))\n",
                        "  Downloading monotonic-1.6-py2.py3-none-any.whl (8.2 kB)\n",
                        "Collecting rich<=13.0.1 (from argilla->unstructured->-r /workspaces/llama.index/.conda/lib/python3.10/site-packages/llama_index/readers/llamahub_modules/file/unstructured/requirements.txt (line 1))\n",
                        "  Downloading rich-13.0.1-py3-none-any.whl (238 kB)\n",
                        "\u001b[2K     ━━━━━━━━━━━━━━━━━━━━━━━━━━━━━━━━━━━━━━ 238.1/238.1 kB 14.0 MB/s eta 0:00:00\n",
                        "\u001b[?25hCollecting typer<1.0.0,>=0.6.0 (from argilla->unstructured->-r /workspaces/llama.index/.conda/lib/python3.10/site-packages/llama_index/readers/llamahub_modules/file/unstructured/requirements.txt (line 1))\n",
                        "  Downloading typer-0.9.0-py3-none-any.whl (45 kB)\n",
                        "\u001b[2K     ━━━━━━━━━━━━━━━━━━━━━━━━━━━━━━━━━━━━━━━━ 45.9/45.9 kB 2.6 MB/s eta 0:00:00\n",
                        "\u001b[?25hRequirement already satisfied: python-dateutil>=2.8.1 in /home/codespace/.local/lib/python3.10/site-packages (from pandas->unstructured->-r /workspaces/llama.index/.conda/lib/python3.10/site-packages/llama_index/readers/llamahub_modules/file/unstructured/requirements.txt (line 1)) (2.8.2)\n",
                        "Requirement already satisfied: pytz>=2020.1 in /home/codespace/.local/lib/python3.10/site-packages (from pandas->unstructured->-r /workspaces/llama.index/.conda/lib/python3.10/site-packages/llama_index/readers/llamahub_modules/file/unstructured/requirements.txt (line 1)) (2023.3)\n",
                        "Collecting olefile>=0.46 (from msg-parser->unstructured->-r /workspaces/llama.index/.conda/lib/python3.10/site-packages/llama_index/readers/llamahub_modules/file/unstructured/requirements.txt (line 1))\n",
                        "  Downloading olefile-0.46.zip (112 kB)\n",
                        "\u001b[2K     ━━━━━━━━━━━━━━━━━━━━━━━━━━━━━━━━━━━━━━━ 112.2/112.2 kB 5.3 MB/s eta 0:00:00\n",
                        "\u001b[?25h  Preparing metadata (setup.py): started\n",
                        "  Preparing metadata (setup.py): finished with status 'done'\n",
                        "Collecting et-xmlfile (from openpyxl->unstructured->-r /workspaces/llama.index/.conda/lib/python3.10/site-packages/llama_index/readers/llamahub_modules/file/unstructured/requirements.txt (line 1))\n",
                        "  Downloading et_xmlfile-1.1.0-py3-none-any.whl (4.7 kB)\n",
                        "Requirement already satisfied: charset-normalizer>=2.0.0 in /home/codespace/.local/lib/python3.10/site-packages (from pdfminer.six->unstructured->-r /workspaces/llama.index/.conda/lib/python3.10/site-packages/llama_index/readers/llamahub_modules/file/unstructured/requirements.txt (line 1)) (3.1.0)\n",
                        "Requirement already satisfied: cryptography>=36.0.0 in /home/codespace/.local/lib/python3.10/site-packages (from pdfminer.six->unstructured->-r /workspaces/llama.index/.conda/lib/python3.10/site-packages/llama_index/readers/llamahub_modules/file/unstructured/requirements.txt (line 1)) (41.0.1)\n",
                        "Collecting XlsxWriter>=0.5.7 (from python-pptx->unstructured->-r /workspaces/llama.index/.conda/lib/python3.10/site-packages/llama_index/readers/llamahub_modules/file/unstructured/requirements.txt (line 1))\n",
                        "  Downloading XlsxWriter-3.1.2-py3-none-any.whl (153 kB)\n",
                        "\u001b[2K     ━━━━━━━━━━━━━━━━━━━━━━━━━━━━━━━━━━━━━━━ 153.0/153.0 kB 9.8 MB/s eta 0:00:00\n",
                        "\u001b[?25hRequirement already satisfied: idna<4,>=2.5 in /home/codespace/.local/lib/python3.10/site-packages (from requests->unstructured->-r /workspaces/llama.index/.conda/lib/python3.10/site-packages/llama_index/readers/llamahub_modules/file/unstructured/requirements.txt (line 1)) (3.4)\n",
                        "Requirement already satisfied: urllib3<3,>=1.21.1 in ./.conda/lib/python3.10/site-packages (from requests->unstructured->-r /workspaces/llama.index/.conda/lib/python3.10/site-packages/llama_index/readers/llamahub_modules/file/unstructured/requirements.txt (line 1)) (1.26.16)\n",
                        "Requirement already satisfied: certifi>=2017.4.17 in /home/codespace/.local/lib/python3.10/site-packages (from requests->unstructured->-r /workspaces/llama.index/.conda/lib/python3.10/site-packages/llama_index/readers/llamahub_modules/file/unstructured/requirements.txt (line 1)) (2023.5.7)\n",
                        "Requirement already satisfied: cffi>=1.12 in /home/codespace/.local/lib/python3.10/site-packages (from cryptography>=36.0.0->pdfminer.six->unstructured->-r /workspaces/llama.index/.conda/lib/python3.10/site-packages/llama_index/readers/llamahub_modules/file/unstructured/requirements.txt (line 1)) (1.15.1)\n",
                        "Collecting httpcore<0.17.0,>=0.15.0 (from httpx<0.24,>=0.15->argilla->unstructured->-r /workspaces/llama.index/.conda/lib/python3.10/site-packages/llama_index/readers/llamahub_modules/file/unstructured/requirements.txt (line 1))\n",
                        "  Downloading httpcore-0.16.3-py3-none-any.whl (69 kB)\n",
                        "\u001b[2K     ━━━━━━━━━━━━━━━━━━━━━━━━━━━━━━━━━━━━━━━━ 69.6/69.6 kB 4.6 MB/s eta 0:00:00\n",
                        "\u001b[?25hCollecting rfc3986[idna2008]<2,>=1.3 (from httpx<0.24,>=0.15->argilla->unstructured->-r /workspaces/llama.index/.conda/lib/python3.10/site-packages/llama_index/readers/llamahub_modules/file/unstructured/requirements.txt (line 1))\n",
                        "  Downloading rfc3986-1.5.0-py2.py3-none-any.whl (31 kB)\n",
                        "Requirement already satisfied: sniffio in /home/codespace/.local/lib/python3.10/site-packages (from httpx<0.24,>=0.15->argilla->unstructured->-r /workspaces/llama.index/.conda/lib/python3.10/site-packages/llama_index/readers/llamahub_modules/file/unstructured/requirements.txt (line 1)) (1.3.0)\n",
                        "Requirement already satisfied: typing-extensions>=4.2.0 in ./.conda/lib/python3.10/site-packages (from pydantic>=1.10.7->argilla->unstructured->-r /workspaces/llama.index/.conda/lib/python3.10/site-packages/llama_index/readers/llamahub_modules/file/unstructured/requirements.txt (line 1)) (4.5.0)\n",
                        "Requirement already satisfied: six>=1.5 in /home/codespace/.local/lib/python3.10/site-packages (from python-dateutil>=2.8.1->pandas->unstructured->-r /workspaces/llama.index/.conda/lib/python3.10/site-packages/llama_index/readers/llamahub_modules/file/unstructured/requirements.txt (line 1)) (1.16.0)\n",
                        "Collecting commonmark<0.10.0,>=0.9.0 (from rich<=13.0.1->argilla->unstructured->-r /workspaces/llama.index/.conda/lib/python3.10/site-packages/llama_index/readers/llamahub_modules/file/unstructured/requirements.txt (line 1))\n",
                        "  Downloading commonmark-0.9.1-py2.py3-none-any.whl (51 kB)\n",
                        "\u001b[2K     ━━━━━━━━━━━━━━━━━━━━━━━━━━━━━━━━━━━━━━━━ 51.1/51.1 kB 2.8 MB/s eta 0:00:00\n",
                        "\u001b[?25hRequirement already satisfied: pygments<3.0.0,>=2.6.0 in /home/codespace/.local/lib/python3.10/site-packages (from rich<=13.0.1->argilla->unstructured->-r /workspaces/llama.index/.conda/lib/python3.10/site-packages/llama_index/readers/llamahub_modules/file/unstructured/requirements.txt (line 1)) (2.15.1)\n",
                        "Requirement already satisfied: pycparser in /home/codespace/.local/lib/python3.10/site-packages (from cffi>=1.12->cryptography>=36.0.0->pdfminer.six->unstructured->-r /workspaces/llama.index/.conda/lib/python3.10/site-packages/llama_index/readers/llamahub_modules/file/unstructured/requirements.txt (line 1)) (2.21)\n",
                        "Collecting h11<0.15,>=0.13 (from httpcore<0.17.0,>=0.15.0->httpx<0.24,>=0.15->argilla->unstructured->-r /workspaces/llama.index/.conda/lib/python3.10/site-packages/llama_index/readers/llamahub_modules/file/unstructured/requirements.txt (line 1))\n",
                        "  Downloading h11-0.14.0-py3-none-any.whl (58 kB)\n",
                        "\u001b[2K     ━━━━━━━━━━━━━━━━━━━━━━━━━━━━━━━━━━━━━━━━ 58.3/58.3 kB 3.6 MB/s eta 0:00:00\n",
                        "\u001b[?25hRequirement already satisfied: anyio<5.0,>=3.0 in /home/codespace/.local/lib/python3.10/site-packages (from httpcore<0.17.0,>=0.15.0->httpx<0.24,>=0.15->argilla->unstructured->-r /workspaces/llama.index/.conda/lib/python3.10/site-packages/llama_index/readers/llamahub_modules/file/unstructured/requirements.txt (line 1)) (3.7.0)\n",
                        "Requirement already satisfied: exceptiongroup in /home/codespace/.local/lib/python3.10/site-packages (from anyio<5.0,>=3.0->httpcore<0.17.0,>=0.15.0->httpx<0.24,>=0.15->argilla->unstructured->-r /workspaces/llama.index/.conda/lib/python3.10/site-packages/llama_index/readers/llamahub_modules/file/unstructured/requirements.txt (line 1)) (1.1.1)\n",
                        "Building wheels for collected packages: python-docx, python-pptx, olefile\n",
                        "  Building wheel for python-docx (setup.py): started\n",
                        "  Building wheel for python-docx (setup.py): finished with status 'done'\n",
                        "  Created wheel for python-docx: filename=python_docx-0.8.11-py3-none-any.whl size=184491 sha256=097826b3566a7feaf50c78d8ca4e437c2437635c345d5dba2c9e1130a73079ae\n",
                        "  Stored in directory: /home/codespace/.cache/pip/wheels/80/27/06/837436d4c3bd989b957a91679966f207bfd71d358d63a8194d\n",
                        "  Building wheel for python-pptx (setup.py): started\n",
                        "  Building wheel for python-pptx (setup.py): finished with status 'done'\n",
                        "  Created wheel for python-pptx: filename=python_pptx-0.6.21-py3-none-any.whl size=470935 sha256=2dcf637b465fc7eccca16521299d334f7c8229ae05672a9686ca832bb43c3f28\n",
                        "  Stored in directory: /home/codespace/.cache/pip/wheels/ea/dd/74/01b3ec7256a0800b99384e9a0f7620e358afc3a51a59bf9b49\n",
                        "  Building wheel for olefile (setup.py): started\n",
                        "  Building wheel for olefile (setup.py): finished with status 'done'\n",
                        "  Created wheel for olefile: filename=olefile-0.46-py2.py3-none-any.whl size=35417 sha256=3b2684a1c80c16916730d8f60b1f43ae3dc119c78a44c142d8b47dea39c2150c\n",
                        "  Stored in directory: /home/codespace/.cache/pip/wheels/02/39/c0/9eb1f7a42b4b38f6f333b6314d4ed11c46f12a0f7b78194f0d\n",
                        "Successfully built python-docx python-pptx olefile\n",
                        "Installing collected packages: rfc3986, monotonic, filetype, commonmark, XlsxWriter, xlrd, wrapt, tabulate, rich, python-magic, pypandoc, pdf2image, olefile, numpy, markdown, lxml, h11, et-xmlfile, click, chardet, backoff, typer, python-pptx, python-docx, pandas, openpyxl, nltk, msg-parser, httpcore, deprecated, pdfminer.six, httpx, argilla, unstructured\n",
                        "  Attempting uninstall: numpy\n",
                        "    Found existing installation: numpy 1.24.3\n",
                        "    Uninstalling numpy-1.24.3:\n",
                        "      Successfully uninstalled numpy-1.24.3\n",
                        "  Attempting uninstall: pandas\n",
                        "    Found existing installation: pandas 2.0.2\n",
                        "    Uninstalling pandas-2.0.2:\n",
                        "      Successfully uninstalled pandas-2.0.2\n",
                        "Successfully installed XlsxWriter-3.1.2 argilla-1.11.0 backoff-2.2.1 chardet-5.1.0 click-8.1.3 commonmark-0.9.1 deprecated-1.2.14 et-xmlfile-1.1.0 filetype-1.2.0 h11-0.14.0 httpcore-0.16.3 httpx-0.23.3 lxml-4.9.2 markdown-3.4.3 monotonic-1.6 msg-parser-1.2.0 nltk-3.8.1 numpy-1.23.5 olefile-0.46 openpyxl-3.1.2 pandas-1.5.3 pdf2image-1.16.3 pdfminer.six-20221105 pypandoc-1.11 python-docx-0.8.11 python-magic-0.4.27 python-pptx-0.6.21 rfc3986-1.5.0 rich-13.0.1 tabulate-0.9.0 typer-0.9.0 unstructured-0.7.8 wrapt-1.14.1 xlrd-2.0.1\n"
                    ]
                }
            ],
            "source": [
                "UnstructuredReader = download_loader(\"UnstructuredReader\", refresh_cache=True)"
            ]
        },
        {
            "cell_type": "code",
            "execution_count": 9,
            "id": "29084a11-f3da-428d-ae17-27b85a365e84",
            "metadata": {
                "colab": {
                    "base_uri": "https://localhost:8080/"
                },
                "id": "29084a11-f3da-428d-ae17-27b85a365e84",
                "outputId": "819e4c48-0bb0-4e22-a84c-3021fbedbc4a"
            },
            "outputs": [
                {
                    "data": {
                        "text/html": [
                            "\n",
                            "  <style>\n",
                            "    pre {\n",
                            "        white-space: pre-wrap;\n",
                            "    }\n",
                            "  </style>\n",
                            "  "
                        ],
                        "text/plain": [
                            "<IPython.core.display.HTML object>"
                        ]
                    },
                    "metadata": {},
                    "output_type": "display_data"
                },
                {
                    "data": {
                        "text/html": [
                            "\n",
                            "  <style>\n",
                            "    pre {\n",
                            "        white-space: pre-wrap;\n",
                            "    }\n",
                            "  </style>\n",
                            "  "
                        ],
                        "text/plain": [
                            "<IPython.core.display.HTML object>"
                        ]
                    },
                    "metadata": {},
                    "output_type": "display_data"
                },
                {
                    "name": "stderr",
                    "output_type": "stream",
                    "text": [
                        "[nltk_data] Downloading package punkt to /home/codespace/nltk_data...\n",
                        "[nltk_data]   Unzipping tokenizers/punkt.zip.\n",
                        "[nltk_data] Downloading package averaged_perceptron_tagger to\n",
                        "[nltk_data]     /home/codespace/nltk_data...\n",
                        "[nltk_data]   Unzipping taggers/averaged_perceptron_tagger.zip.\n"
                    ]
                }
            ],
            "source": [
                "loader = UnstructuredReader()\n",
                "doc_set = {}\n",
                "all_docs = []\n",
                "for year in years:\n",
                "    year_docs = loader.load_data(file=Path(f'./data/UBER/UBER_{year}.html'), split_documents=False)\n",
                "    # insert year metadata into each year\n",
                "    for d in year_docs:\n",
                "        d.extra_info = {\"year\": year}\n",
                "    doc_set[year] = year_docs\n",
                "    all_docs.extend(year_docs)"
            ]
        },
        {
            "cell_type": "markdown",
            "id": "08b367eb-f9cc-449a-99c5-dfcfbef20a9d",
            "metadata": {
                "id": "08b367eb-f9cc-449a-99c5-dfcfbef20a9d"
            },
            "source": [
                "### Setup a Vector Index for each SEC filing\n",
                "\n",
                "We setup a separate vector index for each SEC filing from 2019-2022.\n",
                "\n",
                "We also optionally initialize a \"global\" index by dumping all files into the vector store."
            ]
        },
        {
            "cell_type": "code",
            "execution_count": 12,
            "id": "8fbe18a6-4a08-441d-adae-a6195f2cdcb1",
            "metadata": {
                "id": "8fbe18a6-4a08-441d-adae-a6195f2cdcb1",
                "outputId": "bdc1d207-efb2-4f82-bf6c-668cfb7ca98f"
            },
            "outputs": [
                {
                    "data": {
                        "text/html": [
                            "\n",
                            "  <style>\n",
                            "    pre {\n",
                            "        white-space: pre-wrap;\n",
                            "    }\n",
                            "  </style>\n",
                            "  "
                        ],
                        "text/plain": [
                            "<IPython.core.display.HTML object>"
                        ]
                    },
                    "metadata": {},
                    "output_type": "display_data"
                },
                {
                    "data": {
                        "text/html": [
                            "\n",
                            "  <style>\n",
                            "    pre {\n",
                            "        white-space: pre-wrap;\n",
                            "    }\n",
                            "  </style>\n",
                            "  "
                        ],
                        "text/plain": [
                            "<IPython.core.display.HTML object>"
                        ]
                    },
                    "metadata": {},
                    "output_type": "display_data"
                },
                {
                    "ename": "ValidationError",
                    "evalue": "1 validation error for OpenAI\n__root__\n  Did not find openai_api_key, please add an environment variable `OPENAI_API_KEY` which contains it, or pass  `openai_api_key` as a named parameter. (type=value_error)",
                    "output_type": "error",
                    "traceback": [
                        "\u001b[0;31m---------------------------------------------------------------------------\u001b[0m",
                        "\u001b[0;31mValidationError\u001b[0m                           Traceback (most recent call last)",
                        "Cell \u001b[0;32mIn[12], line 4\u001b[0m\n\u001b[1;32m      1\u001b[0m \u001b[39m# initialize simple vector indices + global vector index\u001b[39;00m\n\u001b[1;32m      2\u001b[0m \u001b[39m# NOTE: don't run this cell if the indices are already loaded! \u001b[39;00m\n\u001b[1;32m      3\u001b[0m index_set \u001b[39m=\u001b[39m {}\n\u001b[0;32m----> 4\u001b[0m service_context \u001b[39m=\u001b[39m ServiceContext\u001b[39m.\u001b[39;49mfrom_defaults(chunk_size\u001b[39m=\u001b[39;49m\u001b[39m512\u001b[39;49m)\n\u001b[1;32m      5\u001b[0m \u001b[39mfor\u001b[39;00m year \u001b[39min\u001b[39;00m years:\n\u001b[1;32m      6\u001b[0m     cur_index \u001b[39m=\u001b[39m VectorStoreIndex\u001b[39m.\u001b[39mfrom_documents(doc_set[year], service_context\u001b[39m=\u001b[39mservice_context)\n",
                        "File \u001b[0;32m/workspaces/llama.index/.conda/lib/python3.10/site-packages/llama_index/indices/service_context.py:133\u001b[0m, in \u001b[0;36mServiceContext.from_defaults\u001b[0;34m(cls, llm_predictor, llm, prompt_helper, embed_model, node_parser, llama_logger, callback_manager, chunk_size, chunk_overlap, context_window, num_output, chunk_size_limit)\u001b[0m\n\u001b[1;32m    131\u001b[0m         \u001b[39mraise\u001b[39;00m \u001b[39mValueError\u001b[39;00m(\u001b[39m\"\u001b[39m\u001b[39mCannot specify both llm and llm_predictor\u001b[39m\u001b[39m\"\u001b[39m)\n\u001b[1;32m    132\u001b[0m     llm_predictor \u001b[39m=\u001b[39m LLMPredictor(llm\u001b[39m=\u001b[39mllm)\n\u001b[0;32m--> 133\u001b[0m llm_predictor \u001b[39m=\u001b[39m llm_predictor \u001b[39mor\u001b[39;00m LLMPredictor()\n\u001b[1;32m    134\u001b[0m llm_predictor\u001b[39m.\u001b[39mcallback_manager \u001b[39m=\u001b[39m callback_manager\n\u001b[1;32m    136\u001b[0m \u001b[39m# NOTE: the embed_model isn't used in all indices\u001b[39;00m\n",
                        "File \u001b[0;32m/workspaces/llama.index/.conda/lib/python3.10/site-packages/llama_index/llm_predictor/base.py:169\u001b[0m, in \u001b[0;36mLLMPredictor.__init__\u001b[0;34m(self, llm, retry_on_throttling, cache, callback_manager)\u001b[0m\n\u001b[1;32m    161\u001b[0m \u001b[39mdef\u001b[39;00m \u001b[39m__init__\u001b[39m(\n\u001b[1;32m    162\u001b[0m     \u001b[39mself\u001b[39m,\n\u001b[1;32m    163\u001b[0m     llm: Optional[BaseLanguageModel] \u001b[39m=\u001b[39m \u001b[39mNone\u001b[39;00m,\n\u001b[0;32m   (...)\u001b[0m\n\u001b[1;32m    166\u001b[0m     callback_manager: Optional[CallbackManager] \u001b[39m=\u001b[39m \u001b[39mNone\u001b[39;00m,\n\u001b[1;32m    167\u001b[0m ) \u001b[39m-\u001b[39m\u001b[39m>\u001b[39m \u001b[39mNone\u001b[39;00m:\n\u001b[1;32m    168\u001b[0m \u001b[39m    \u001b[39m\u001b[39m\"\"\"Initialize params.\"\"\"\u001b[39;00m\n\u001b[0;32m--> 169\u001b[0m     \u001b[39mself\u001b[39m\u001b[39m.\u001b[39m_llm \u001b[39m=\u001b[39m llm \u001b[39mor\u001b[39;00m OpenAI(\n\u001b[1;32m    170\u001b[0m         temperature\u001b[39m=\u001b[39;49m\u001b[39m0\u001b[39;49m, model_name\u001b[39m=\u001b[39;49m\u001b[39m\"\u001b[39;49m\u001b[39mtext-davinci-003\u001b[39;49m\u001b[39m\"\u001b[39;49m, max_tokens\u001b[39m=\u001b[39;49m\u001b[39m-\u001b[39;49m\u001b[39m1\u001b[39;49m\n\u001b[1;32m    171\u001b[0m     )\n\u001b[1;32m    172\u001b[0m     \u001b[39mif\u001b[39;00m cache \u001b[39mis\u001b[39;00m \u001b[39mnot\u001b[39;00m \u001b[39mNone\u001b[39;00m:\n\u001b[1;32m    173\u001b[0m         langchain\u001b[39m.\u001b[39mllm_cache \u001b[39m=\u001b[39m cache\n",
                        "File \u001b[0;32m/workspaces/llama.index/.conda/lib/python3.10/site-packages/langchain/load/serializable.py:74\u001b[0m, in \u001b[0;36mSerializable.__init__\u001b[0;34m(self, **kwargs)\u001b[0m\n\u001b[1;32m     73\u001b[0m \u001b[39mdef\u001b[39;00m \u001b[39m__init__\u001b[39m(\u001b[39mself\u001b[39m, \u001b[39m*\u001b[39m\u001b[39m*\u001b[39mkwargs: Any) \u001b[39m-\u001b[39m\u001b[39m>\u001b[39m \u001b[39mNone\u001b[39;00m:\n\u001b[0;32m---> 74\u001b[0m     \u001b[39msuper\u001b[39;49m()\u001b[39m.\u001b[39;49m\u001b[39m__init__\u001b[39;49m(\u001b[39m*\u001b[39;49m\u001b[39m*\u001b[39;49mkwargs)\n\u001b[1;32m     75\u001b[0m     \u001b[39mself\u001b[39m\u001b[39m.\u001b[39m_lc_kwargs \u001b[39m=\u001b[39m kwargs\n",
                        "File \u001b[0;32m/workspaces/llama.index/.conda/lib/python3.10/site-packages/pydantic/main.py:341\u001b[0m, in \u001b[0;36mpydantic.main.BaseModel.__init__\u001b[0;34m()\u001b[0m\n",
                        "\u001b[0;31mValidationError\u001b[0m: 1 validation error for OpenAI\n__root__\n  Did not find openai_api_key, please add an environment variable `OPENAI_API_KEY` which contains it, or pass  `openai_api_key` as a named parameter. (type=value_error)"
                    ]
                }
            ],
            "source": [
                "# initialize simple vector indices + global vector index\n",
                "# NOTE: don't run this cell if the indices are already loaded! \n",
                "index_set = {}\n",
                "service_context = ServiceContext.from_defaults(chunk_size=512)\n",
                "for year in years:\n",
                "    cur_index = VectorStoreIndex.from_documents(doc_set[year], service_context=service_context)\n",
                "    index_set[year] = cur_index\n",
                "    "
            ]
        },
        {
            "cell_type": "code",
            "execution_count": 11,
            "id": "d3a5e993-99ae-445a-bcae-e2d415d84e34",
            "metadata": {
                "id": "d3a5e993-99ae-445a-bcae-e2d415d84e34"
            },
            "outputs": [
                {
                    "data": {
                        "text/html": [
                            "\n",
                            "  <style>\n",
                            "    pre {\n",
                            "        white-space: pre-wrap;\n",
                            "    }\n",
                            "  </style>\n",
                            "  "
                        ],
                        "text/plain": [
                            "<IPython.core.display.HTML object>"
                        ]
                    },
                    "metadata": {},
                    "output_type": "display_data"
                },
                {
                    "data": {
                        "text/html": [
                            "\n",
                            "  <style>\n",
                            "    pre {\n",
                            "        white-space: pre-wrap;\n",
                            "    }\n",
                            "  </style>\n",
                            "  "
                        ],
                        "text/plain": [
                            "<IPython.core.display.HTML object>"
                        ]
                    },
                    "metadata": {},
                    "output_type": "display_data"
                },
                {
                    "ename": "NameError",
                    "evalue": "name 'cur_index' is not defined",
                    "output_type": "error",
                    "traceback": [
                        "\u001b[0;31m---------------------------------------------------------------------------\u001b[0m",
                        "\u001b[0;31mNameError\u001b[0m                                 Traceback (most recent call last)",
                        "Cell \u001b[0;32mIn[11], line 4\u001b[0m\n\u001b[1;32m      2\u001b[0m index_set \u001b[39m=\u001b[39m {}\n\u001b[1;32m      3\u001b[0m \u001b[39mfor\u001b[39;00m year \u001b[39min\u001b[39;00m years:\n\u001b[0;32m----> 4\u001b[0m     index_set[year] \u001b[39m=\u001b[39m cur_index\n",
                        "\u001b[0;31mNameError\u001b[0m: name 'cur_index' is not defined"
                    ]
                }
            ],
            "source": [
                "# Load indices from disk\n",
                "index_set = {}\n",
                "for year in years:\n",
                "    index_set[year] = cur_index"
            ]
        },
        {
            "cell_type": "markdown",
            "id": "007a99d7-4f63-44bf-957b-c9f5669bce28",
            "metadata": {
                "id": "007a99d7-4f63-44bf-957b-c9f5669bce28"
            },
            "source": [
                "### Composing a Graph to synthesize answers across 10-K filings (2019-2022)\n",
                "\n",
                "We want our queries to aggregate/synthesize information across *all* 10-K filings. To do this, we define a List index\n",
                "on top of the 4 vector indices."
            ]
        },
        {
            "cell_type": "code",
            "execution_count": null,
            "id": "f3fb341a-19a3-4e4a-9369-7ddc46b8c2a6",
            "metadata": {
                "id": "f3fb341a-19a3-4e4a-9369-7ddc46b8c2a6"
            },
            "outputs": [],
            "source": [
                "from llama_index import ListIndex, LLMPredictor\n",
                "from langchain import OpenAI\n",
                "from llama_index.indices.composability import ComposableGraph"
            ]
        },
        {
            "cell_type": "code",
            "execution_count": null,
            "id": "966388cb-2fe4-4427-ad2e-cea6a0375233",
            "metadata": {
                "id": "966388cb-2fe4-4427-ad2e-cea6a0375233"
            },
            "outputs": [],
            "source": [
                "# set summary text for each doc\n",
                "index_summaries = [f\"UBER 10-k Filing for {year} fiscal year\" for year in years]"
            ]
        },
        {
            "cell_type": "code",
            "execution_count": null,
            "id": "f9e453b1-6782-45b5-8258-dfc386e6cf22",
            "metadata": {
                "id": "f9e453b1-6782-45b5-8258-dfc386e6cf22"
            },
            "outputs": [],
            "source": [
                "# set number of output tokens\n",
                "llm_predictor = LLMPredictor(llm=OpenAI(temperature=0, max_tokens=512))\n",
                "service_context = ServiceContext.from_defaults(llm_predictor=llm_predictor)"
            ]
        },
        {
            "cell_type": "code",
            "execution_count": null,
            "id": "3b758fc2-bb21-46da-91b5-53e399eecfb0",
            "metadata": {
                "id": "3b758fc2-bb21-46da-91b5-53e399eecfb0",
                "outputId": "e7c99f46-8757-48a2-c84b-cb95a0a3eab9"
            },
            "outputs": [],
            "source": [
                "# define a list index over the vector indices\n",
                "# allows us to synthesize information across each index\n",
                "graph = ComposableGraph.from_indices(\n",
                "    ListIndex, \n",
                "    [index_set[y] for y in years], \n",
                "    index_summaries=index_summaries,\n",
                "    service_context=service_context\n",
                ")"
            ]
        },
        {
            "cell_type": "markdown",
            "id": "7e2edef1-005f-4733-b64c-5987efa4c88d",
            "metadata": {
                "id": "e46dd052-ab34-4974-b696-16ff217970e0"
            },
            "source": [
                "## Setting up the Chatbot Agent\n",
                "\n",
                "We use Langchain to define the outer chatbot abstraction. We use LlamaIndex as a core Tool within this abstraction."
            ]
        },
        {
            "cell_type": "code",
            "execution_count": null,
            "id": "6c2de0f3-9ec3-4f80-bd36-a509f8bfd4b8",
            "metadata": {
                "tags": []
            },
            "outputs": [],
            "source": [
                "from langchain.chains.conversation.memory import ConversationBufferMemory\n",
                "from langchain.agents import initialize_agent\n",
                "\n",
                "from llama_index.langchain_helpers.agents import LlamaToolkit, create_llama_chat_agent, IndexToolConfig"
            ]
        },
        {
            "cell_type": "code",
            "execution_count": null,
            "id": "c9a6faa1-dc06-4d9c-98b4-06e7ee19c559",
            "metadata": {
                "tags": []
            },
            "outputs": [],
            "source": [
                "# define a decompose transform\n",
                "from llama_index.indices.query.query_transform.base import DecomposeQueryTransform\n",
                "from llama_index.query_engine.transform_query_engine import TransformQueryEngine\n",
                "decompose_transform = DecomposeQueryTransform(\n",
                "    llm_predictor, verbose=True\n",
                ")\n",
                "\n",
                "# define custom query engines\n",
                "custom_query_engines = {}\n",
                "for index in index_set.values():\n",
                "    query_engine = index.as_query_engine()\n",
                "    query_engine = TransformQueryEngine(\n",
                "        query_engine,\n",
                "        query_transform=decompose_transform,\n",
                "        transform_extra_info={'index_summary': index.index_struct.summary},\n",
                "    )\n",
                "    custom_query_engines[index.index_id] = query_engine\n",
                "custom_query_engines[graph.root_id] = graph.root_index.as_query_engine(\n",
                "    response_mode='tree_summarize',\n",
                "    verbose=True,\n",
                ")\n",
                "\n",
                "# construct query engine\n",
                "graph_query_engine = graph.as_query_engine(custom_query_engines=custom_query_engines)\n"
            ]
        },
        {
            "cell_type": "code",
            "execution_count": null,
            "id": "e763ceba-1c54-4abb-9589-c0628d18c5e5",
            "metadata": {
                "tags": []
            },
            "outputs": [],
            "source": [
                "# index configs\n",
                "index_configs = []\n",
                "for y in range(2019, 2023):\n",
                "    query_engine = index_set[y].as_query_engine(\n",
                "        similarity_top_k=3,\n",
                "    )\n",
                "    tool_config = IndexToolConfig(\n",
                "        query_engine=query_engine, \n",
                "        name=f\"Vector Index {y}\",\n",
                "        description=f\"useful for when you want to answer queries about the {y} SEC 10-K for Uber\",\n",
                "        tool_kwargs={\"return_direct\": True, \"return_sources\": True},\n",
                "    )\n",
                "    index_configs.append(tool_config)\n",
                "    \n",
                "# graph config\n",
                "graph_config = IndexToolConfig(\n",
                "    query_engine=graph_query_engine,\n",
                "    name=f\"Graph Index\",\n",
                "    description=\"useful for when you want to answer queries that require analyzing multiple SEC 10-K documents for Uber.\",\n",
                "    tool_kwargs={\"return_direct\": True, \"return_sources\": True},\n",
                "    return_sources=True\n",
                ")\n",
                "\n",
                "toolkit = LlamaToolkit(\n",
                "    index_configs=index_configs,\n",
                "    graph_configs=[graph_config]\n",
                ")"
            ]
        },
        {
            "cell_type": "code",
            "execution_count": null,
            "id": "c28cd7ee-15ef-4240-aff3-ecc0ba335df2",
            "metadata": {
                "tags": []
            },
            "outputs": [],
            "source": [
                "memory = ConversationBufferMemory(memory_key=\"chat_history\")\n",
                "llm=OpenAI(temperature=0)\n",
                "agent_chain = create_llama_chat_agent(\n",
                "    toolkit,\n",
                "    llm,\n",
                "    memory=memory,\n",
                "    verbose=True\n",
                ")"
            ]
        },
        {
            "cell_type": "code",
            "execution_count": null,
            "id": "92bd0eaa-73ad-4735-8234-a376fd1b3a6a",
            "metadata": {},
            "outputs": [],
            "source": [
                "agent_chain.run(input=\"hi, i am bob\")"
            ]
        },
        {
            "cell_type": "code",
            "execution_count": null,
            "id": "19ca8476-bfeb-4c88-a0ff-15424e2d91c7",
            "metadata": {},
            "outputs": [],
            "source": [
                "agent_chain.run(input=\"What were some of the biggest risk factors in 2020 for Uber?\")"
            ]
        },
        {
            "cell_type": "code",
            "execution_count": null,
            "id": "05b5cd50-cf28-4ad1-b1c2-067f626bad93",
            "metadata": {
                "tags": []
            },
            "outputs": [],
            "source": [
                "cross_query_str = (\n",
                "    \"Compare/contrast the risk factors described in the Uber 10-K across years. Give answer in bullet points.\"\n",
                ")\n",
                "\n",
                "response = agent_chain.run(input=cross_query_str)"
            ]
        },
        {
            "cell_type": "code",
            "execution_count": null,
            "id": "54305c87",
            "metadata": {},
            "outputs": [],
            "source": [
                "# parse the response w/ sources\n",
                "import json\n",
                "response_json = json.loads(response)\n",
                "print(response)"
            ]
        },
        {
            "cell_type": "markdown",
            "id": "a066a1c8-2108-447a-ab9a-b82b4f35696e",
            "metadata": {},
            "source": [
                "### Setup Chatbot Loop Within Notebook\n",
                "\n",
                "We'll keep a running loop so that you can converse with the agent. "
            ]
        },
        {
            "cell_type": "code",
            "execution_count": null,
            "id": "f9dcd609-3921-493e-a4c1-3312dac277d2",
            "metadata": {
                "tags": []
            },
            "outputs": [],
            "source": [
                "# reinitialize agent\n",
                "memory = ConversationBufferMemory(memory_key=\"chat_history\")\n",
                "llm=OpenAI(temperature=0)\n",
                "agent_chain = create_llama_chat_agent(\n",
                "    toolkit,\n",
                "    llm,\n",
                "    memory=memory,\n",
                ")"
            ]
        },
        {
            "cell_type": "code",
            "execution_count": null,
            "id": "edf6b5a9-bac5-4599-93f8-21c2fc44fa4b",
            "metadata": {
                "tags": []
            },
            "outputs": [],
            "source": [
                "while True:\n",
                "    text_input = input(\"User: \")\n",
                "    response = agent_chain.run(input=text_input)\n",
                "    print(f'Agent: {response}')\n",
                "    "
            ]
        },
        {
            "cell_type": "code",
            "execution_count": null,
            "id": "50fa7bb1-817c-4ac1-af39-adbcb14139e2",
            "metadata": {},
            "outputs": [],
            "source": []
        }
    ],
    "metadata": {
        "colab": {
            "provenance": []
        },
        "kernelspec": {
            "display_name": "llama",
            "language": "python",
            "name": "python3"
        },
        "language_info": {
            "codemirror_mode": {
                "name": "ipython",
                "version": 3
            },
            "file_extension": ".py",
            "mimetype": "text/x-python",
            "name": "python",
            "nbconvert_exporter": "python",
            "pygments_lexer": "ipython3",
            "version": "3.10.11"
        },
        "widgets": {
            "application/vnd.jupyter.widget-state+json": {
                "0a8d7bc06ed646b78956101c5c62fb1f": {
                    "model_module": "@jupyter-widgets/controls",
                    "model_module_version": "1.5.0",
                    "model_name": "FloatProgressModel",
                    "state": {
                        "_dom_classes": [],
                        "_model_module": "@jupyter-widgets/controls",
                        "_model_module_version": "1.5.0",
                        "_model_name": "FloatProgressModel",
                        "_view_count": null,
                        "_view_module": "@jupyter-widgets/controls",
                        "_view_module_version": "1.5.0",
                        "_view_name": "ProgressView",
                        "bar_style": "success",
                        "description": "",
                        "description_tooltip": null,
                        "layout": "IPY_MODEL_112ef61e952444369d6c0dce1d1098a8",
                        "max": 456318,
                        "min": 0,
                        "orientation": "horizontal",
                        "style": "IPY_MODEL_afe741aff3f54ae6a89b5965888599f4",
                        "value": 456318
                    }
                },
                "0cccb700fc264051abc0b7458716054f": {
                    "model_module": "@jupyter-widgets/controls",
                    "model_module_version": "1.5.0",
                    "model_name": "DescriptionStyleModel",
                    "state": {
                        "_model_module": "@jupyter-widgets/controls",
                        "_model_module_version": "1.5.0",
                        "_model_name": "DescriptionStyleModel",
                        "_view_count": null,
                        "_view_module": "@jupyter-widgets/base",
                        "_view_module_version": "1.2.0",
                        "_view_name": "StyleView",
                        "description_width": ""
                    }
                },
                "0cd2bf060b4c4daeaf9156705ae409ab": {
                    "model_module": "@jupyter-widgets/controls",
                    "model_module_version": "1.5.0",
                    "model_name": "HBoxModel",
                    "state": {
                        "_dom_classes": [],
                        "_model_module": "@jupyter-widgets/controls",
                        "_model_module_version": "1.5.0",
                        "_model_name": "HBoxModel",
                        "_view_count": null,
                        "_view_module": "@jupyter-widgets/controls",
                        "_view_module_version": "1.5.0",
                        "_view_name": "HBoxView",
                        "box_style": "",
                        "children": [
                            "IPY_MODEL_3c4ce2ec8ae54042864d1d0261355166",
                            "IPY_MODEL_2e27352e29354001b53bc4d07bd4c1ed",
                            "IPY_MODEL_709f853d0ae846e7945c74ff83cae52e"
                        ],
                        "layout": "IPY_MODEL_54a3bafa2af54475abe57e37e2399a45"
                    }
                },
                "0dc1dea99b774b74a84c9c02b6335b94": {
                    "model_module": "@jupyter-widgets/controls",
                    "model_module_version": "1.5.0",
                    "model_name": "HTMLModel",
                    "state": {
                        "_dom_classes": [],
                        "_model_module": "@jupyter-widgets/controls",
                        "_model_module_version": "1.5.0",
                        "_model_name": "HTMLModel",
                        "_view_count": null,
                        "_view_module": "@jupyter-widgets/controls",
                        "_view_module_version": "1.5.0",
                        "_view_name": "HTMLView",
                        "description": "",
                        "description_tooltip": null,
                        "layout": "IPY_MODEL_3b4a5130401a44daa116828b9fa8d17b",
                        "placeholder": "​",
                        "style": "IPY_MODEL_21efd9c072db42bf89ad5dbd96b52a01",
                        "value": "Downloading (…)lve/main/config.json: 100%"
                    }
                },
                "10420e2dba3244f48c8fcd7d35904e41": {
                    "model_module": "@jupyter-widgets/base",
                    "model_module_version": "1.2.0",
                    "model_name": "LayoutModel",
                    "state": {
                        "_model_module": "@jupyter-widgets/base",
                        "_model_module_version": "1.2.0",
                        "_model_name": "LayoutModel",
                        "_view_count": null,
                        "_view_module": "@jupyter-widgets/base",
                        "_view_module_version": "1.2.0",
                        "_view_name": "LayoutView",
                        "align_content": null,
                        "align_items": null,
                        "align_self": null,
                        "border": null,
                        "bottom": null,
                        "display": null,
                        "flex": null,
                        "flex_flow": null,
                        "grid_area": null,
                        "grid_auto_columns": null,
                        "grid_auto_flow": null,
                        "grid_auto_rows": null,
                        "grid_column": null,
                        "grid_gap": null,
                        "grid_row": null,
                        "grid_template_areas": null,
                        "grid_template_columns": null,
                        "grid_template_rows": null,
                        "height": null,
                        "justify_content": null,
                        "justify_items": null,
                        "left": null,
                        "margin": null,
                        "max_height": null,
                        "max_width": null,
                        "min_height": null,
                        "min_width": null,
                        "object_fit": null,
                        "object_position": null,
                        "order": null,
                        "overflow": null,
                        "overflow_x": null,
                        "overflow_y": null,
                        "padding": null,
                        "right": null,
                        "top": null,
                        "visibility": null,
                        "width": null
                    }
                },
                "112ef61e952444369d6c0dce1d1098a8": {
                    "model_module": "@jupyter-widgets/base",
                    "model_module_version": "1.2.0",
                    "model_name": "LayoutModel",
                    "state": {
                        "_model_module": "@jupyter-widgets/base",
                        "_model_module_version": "1.2.0",
                        "_model_name": "LayoutModel",
                        "_view_count": null,
                        "_view_module": "@jupyter-widgets/base",
                        "_view_module_version": "1.2.0",
                        "_view_name": "LayoutView",
                        "align_content": null,
                        "align_items": null,
                        "align_self": null,
                        "border": null,
                        "bottom": null,
                        "display": null,
                        "flex": null,
                        "flex_flow": null,
                        "grid_area": null,
                        "grid_auto_columns": null,
                        "grid_auto_flow": null,
                        "grid_auto_rows": null,
                        "grid_column": null,
                        "grid_gap": null,
                        "grid_row": null,
                        "grid_template_areas": null,
                        "grid_template_columns": null,
                        "grid_template_rows": null,
                        "height": null,
                        "justify_content": null,
                        "justify_items": null,
                        "left": null,
                        "margin": null,
                        "max_height": null,
                        "max_width": null,
                        "min_height": null,
                        "min_width": null,
                        "object_fit": null,
                        "object_position": null,
                        "order": null,
                        "overflow": null,
                        "overflow_x": null,
                        "overflow_y": null,
                        "padding": null,
                        "right": null,
                        "top": null,
                        "visibility": null,
                        "width": null
                    }
                },
                "1a259e1a45bc4043b81243d033b79752": {
                    "model_module": "@jupyter-widgets/controls",
                    "model_module_version": "1.5.0",
                    "model_name": "HBoxModel",
                    "state": {
                        "_dom_classes": [],
                        "_model_module": "@jupyter-widgets/controls",
                        "_model_module_version": "1.5.0",
                        "_model_name": "HBoxModel",
                        "_view_count": null,
                        "_view_module": "@jupyter-widgets/controls",
                        "_view_module_version": "1.5.0",
                        "_view_name": "HBoxView",
                        "box_style": "",
                        "children": [
                            "IPY_MODEL_f0963a05a29d4e6f8a2ab48fc8a26a1d",
                            "IPY_MODEL_0a8d7bc06ed646b78956101c5c62fb1f",
                            "IPY_MODEL_ef339a504f984cc2ac07c8252aa2f6d5"
                        ],
                        "layout": "IPY_MODEL_3d3c2d54cdf44a06a99c35d0e1b33b0a"
                    }
                },
                "21efd9c072db42bf89ad5dbd96b52a01": {
                    "model_module": "@jupyter-widgets/controls",
                    "model_module_version": "1.5.0",
                    "model_name": "DescriptionStyleModel",
                    "state": {
                        "_model_module": "@jupyter-widgets/controls",
                        "_model_module_version": "1.5.0",
                        "_model_name": "DescriptionStyleModel",
                        "_view_count": null,
                        "_view_module": "@jupyter-widgets/base",
                        "_view_module_version": "1.2.0",
                        "_view_name": "StyleView",
                        "description_width": ""
                    }
                },
                "2d7895836c814084be531103d0218650": {
                    "model_module": "@jupyter-widgets/controls",
                    "model_module_version": "1.5.0",
                    "model_name": "ProgressStyleModel",
                    "state": {
                        "_model_module": "@jupyter-widgets/controls",
                        "_model_module_version": "1.5.0",
                        "_model_name": "ProgressStyleModel",
                        "_view_count": null,
                        "_view_module": "@jupyter-widgets/base",
                        "_view_module_version": "1.2.0",
                        "_view_name": "StyleView",
                        "bar_color": null,
                        "description_width": ""
                    }
                },
                "2e27352e29354001b53bc4d07bd4c1ed": {
                    "model_module": "@jupyter-widgets/controls",
                    "model_module_version": "1.5.0",
                    "model_name": "FloatProgressModel",
                    "state": {
                        "_dom_classes": [],
                        "_model_module": "@jupyter-widgets/controls",
                        "_model_module_version": "1.5.0",
                        "_model_name": "FloatProgressModel",
                        "_view_count": null,
                        "_view_module": "@jupyter-widgets/controls",
                        "_view_module_version": "1.5.0",
                        "_view_name": "ProgressView",
                        "bar_style": "success",
                        "description": "",
                        "description_tooltip": null,
                        "layout": "IPY_MODEL_792a299872704c10af8061175db96031",
                        "max": 1355256,
                        "min": 0,
                        "orientation": "horizontal",
                        "style": "IPY_MODEL_2d7895836c814084be531103d0218650",
                        "value": 1355256
                    }
                },
                "37cf19bcc68d41d7bc6b411cd273a88c": {
                    "model_module": "@jupyter-widgets/controls",
                    "model_module_version": "1.5.0",
                    "model_name": "HTMLModel",
                    "state": {
                        "_dom_classes": [],
                        "_model_module": "@jupyter-widgets/controls",
                        "_model_module_version": "1.5.0",
                        "_model_name": "HTMLModel",
                        "_view_count": null,
                        "_view_module": "@jupyter-widgets/controls",
                        "_view_module_version": "1.5.0",
                        "_view_name": "HTMLView",
                        "description": "",
                        "description_tooltip": null,
                        "layout": "IPY_MODEL_8e1f2102db184538a35ed9c8498d5bbc",
                        "placeholder": "​",
                        "style": "IPY_MODEL_0cccb700fc264051abc0b7458716054f",
                        "value": " 1.04M/1.04M [00:00&lt;00:00, 3.35MB/s]"
                    }
                },
                "387d0ca6bf2c4341804cfa43a71b6451": {
                    "model_module": "@jupyter-widgets/base",
                    "model_module_version": "1.2.0",
                    "model_name": "LayoutModel",
                    "state": {
                        "_model_module": "@jupyter-widgets/base",
                        "_model_module_version": "1.2.0",
                        "_model_name": "LayoutModel",
                        "_view_count": null,
                        "_view_module": "@jupyter-widgets/base",
                        "_view_module_version": "1.2.0",
                        "_view_name": "LayoutView",
                        "align_content": null,
                        "align_items": null,
                        "align_self": null,
                        "border": null,
                        "bottom": null,
                        "display": null,
                        "flex": null,
                        "flex_flow": null,
                        "grid_area": null,
                        "grid_auto_columns": null,
                        "grid_auto_flow": null,
                        "grid_auto_rows": null,
                        "grid_column": null,
                        "grid_gap": null,
                        "grid_row": null,
                        "grid_template_areas": null,
                        "grid_template_columns": null,
                        "grid_template_rows": null,
                        "height": null,
                        "justify_content": null,
                        "justify_items": null,
                        "left": null,
                        "margin": null,
                        "max_height": null,
                        "max_width": null,
                        "min_height": null,
                        "min_width": null,
                        "object_fit": null,
                        "object_position": null,
                        "order": null,
                        "overflow": null,
                        "overflow_x": null,
                        "overflow_y": null,
                        "padding": null,
                        "right": null,
                        "top": null,
                        "visibility": null,
                        "width": null
                    }
                },
                "3b4a5130401a44daa116828b9fa8d17b": {
                    "model_module": "@jupyter-widgets/base",
                    "model_module_version": "1.2.0",
                    "model_name": "LayoutModel",
                    "state": {
                        "_model_module": "@jupyter-widgets/base",
                        "_model_module_version": "1.2.0",
                        "_model_name": "LayoutModel",
                        "_view_count": null,
                        "_view_module": "@jupyter-widgets/base",
                        "_view_module_version": "1.2.0",
                        "_view_name": "LayoutView",
                        "align_content": null,
                        "align_items": null,
                        "align_self": null,
                        "border": null,
                        "bottom": null,
                        "display": null,
                        "flex": null,
                        "flex_flow": null,
                        "grid_area": null,
                        "grid_auto_columns": null,
                        "grid_auto_flow": null,
                        "grid_auto_rows": null,
                        "grid_column": null,
                        "grid_gap": null,
                        "grid_row": null,
                        "grid_template_areas": null,
                        "grid_template_columns": null,
                        "grid_template_rows": null,
                        "height": null,
                        "justify_content": null,
                        "justify_items": null,
                        "left": null,
                        "margin": null,
                        "max_height": null,
                        "max_width": null,
                        "min_height": null,
                        "min_width": null,
                        "object_fit": null,
                        "object_position": null,
                        "order": null,
                        "overflow": null,
                        "overflow_x": null,
                        "overflow_y": null,
                        "padding": null,
                        "right": null,
                        "top": null,
                        "visibility": null,
                        "width": null
                    }
                },
                "3c4ce2ec8ae54042864d1d0261355166": {
                    "model_module": "@jupyter-widgets/controls",
                    "model_module_version": "1.5.0",
                    "model_name": "HTMLModel",
                    "state": {
                        "_dom_classes": [],
                        "_model_module": "@jupyter-widgets/controls",
                        "_model_module_version": "1.5.0",
                        "_model_name": "HTMLModel",
                        "_view_count": null,
                        "_view_module": "@jupyter-widgets/controls",
                        "_view_module_version": "1.5.0",
                        "_view_name": "HTMLView",
                        "description": "",
                        "description_tooltip": null,
                        "layout": "IPY_MODEL_94343417f60a4f9d9a745dfa2c967893",
                        "placeholder": "​",
                        "style": "IPY_MODEL_f6331afe201d49319b76e528e01a9b4b",
                        "value": "Downloading (…)/main/tokenizer.json: 100%"
                    }
                },
                "3d3c2d54cdf44a06a99c35d0e1b33b0a": {
                    "model_module": "@jupyter-widgets/base",
                    "model_module_version": "1.2.0",
                    "model_name": "LayoutModel",
                    "state": {
                        "_model_module": "@jupyter-widgets/base",
                        "_model_module_version": "1.2.0",
                        "_model_name": "LayoutModel",
                        "_view_count": null,
                        "_view_module": "@jupyter-widgets/base",
                        "_view_module_version": "1.2.0",
                        "_view_name": "LayoutView",
                        "align_content": null,
                        "align_items": null,
                        "align_self": null,
                        "border": null,
                        "bottom": null,
                        "display": null,
                        "flex": null,
                        "flex_flow": null,
                        "grid_area": null,
                        "grid_auto_columns": null,
                        "grid_auto_flow": null,
                        "grid_auto_rows": null,
                        "grid_column": null,
                        "grid_gap": null,
                        "grid_row": null,
                        "grid_template_areas": null,
                        "grid_template_columns": null,
                        "grid_template_rows": null,
                        "height": null,
                        "justify_content": null,
                        "justify_items": null,
                        "left": null,
                        "margin": null,
                        "max_height": null,
                        "max_width": null,
                        "min_height": null,
                        "min_width": null,
                        "object_fit": null,
                        "object_position": null,
                        "order": null,
                        "overflow": null,
                        "overflow_x": null,
                        "overflow_y": null,
                        "padding": null,
                        "right": null,
                        "top": null,
                        "visibility": null,
                        "width": null
                    }
                },
                "3e45628539864cd2b1297c2be1d35c98": {
                    "model_module": "@jupyter-widgets/controls",
                    "model_module_version": "1.5.0",
                    "model_name": "DescriptionStyleModel",
                    "state": {
                        "_model_module": "@jupyter-widgets/controls",
                        "_model_module_version": "1.5.0",
                        "_model_name": "DescriptionStyleModel",
                        "_view_count": null,
                        "_view_module": "@jupyter-widgets/base",
                        "_view_module_version": "1.2.0",
                        "_view_name": "StyleView",
                        "description_width": ""
                    }
                },
                "4539f47e9e4c444e9f610dea60db5eb0": {
                    "model_module": "@jupyter-widgets/controls",
                    "model_module_version": "1.5.0",
                    "model_name": "DescriptionStyleModel",
                    "state": {
                        "_model_module": "@jupyter-widgets/controls",
                        "_model_module_version": "1.5.0",
                        "_model_name": "DescriptionStyleModel",
                        "_view_count": null,
                        "_view_module": "@jupyter-widgets/base",
                        "_view_module_version": "1.2.0",
                        "_view_name": "StyleView",
                        "description_width": ""
                    }
                },
                "548c125bc716475ba6708fa80f5b1b61": {
                    "model_module": "@jupyter-widgets/controls",
                    "model_module_version": "1.5.0",
                    "model_name": "FloatProgressModel",
                    "state": {
                        "_dom_classes": [],
                        "_model_module": "@jupyter-widgets/controls",
                        "_model_module_version": "1.5.0",
                        "_model_name": "FloatProgressModel",
                        "_view_count": null,
                        "_view_module": "@jupyter-widgets/controls",
                        "_view_module_version": "1.5.0",
                        "_view_name": "ProgressView",
                        "bar_style": "success",
                        "description": "",
                        "description_tooltip": null,
                        "layout": "IPY_MODEL_387d0ca6bf2c4341804cfa43a71b6451",
                        "max": 1042301,
                        "min": 0,
                        "orientation": "horizontal",
                        "style": "IPY_MODEL_b1c406aebffa49f48c3457a9482a47a3",
                        "value": 1042301
                    }
                },
                "54a3bafa2af54475abe57e37e2399a45": {
                    "model_module": "@jupyter-widgets/base",
                    "model_module_version": "1.2.0",
                    "model_name": "LayoutModel",
                    "state": {
                        "_model_module": "@jupyter-widgets/base",
                        "_model_module_version": "1.2.0",
                        "_model_name": "LayoutModel",
                        "_view_count": null,
                        "_view_module": "@jupyter-widgets/base",
                        "_view_module_version": "1.2.0",
                        "_view_name": "LayoutView",
                        "align_content": null,
                        "align_items": null,
                        "align_self": null,
                        "border": null,
                        "bottom": null,
                        "display": null,
                        "flex": null,
                        "flex_flow": null,
                        "grid_area": null,
                        "grid_auto_columns": null,
                        "grid_auto_flow": null,
                        "grid_auto_rows": null,
                        "grid_column": null,
                        "grid_gap": null,
                        "grid_row": null,
                        "grid_template_areas": null,
                        "grid_template_columns": null,
                        "grid_template_rows": null,
                        "height": null,
                        "justify_content": null,
                        "justify_items": null,
                        "left": null,
                        "margin": null,
                        "max_height": null,
                        "max_width": null,
                        "min_height": null,
                        "min_width": null,
                        "object_fit": null,
                        "object_position": null,
                        "order": null,
                        "overflow": null,
                        "overflow_x": null,
                        "overflow_y": null,
                        "padding": null,
                        "right": null,
                        "top": null,
                        "visibility": null,
                        "width": null
                    }
                },
                "5edb09d55e7b45c881bbf6a38de92f60": {
                    "model_module": "@jupyter-widgets/controls",
                    "model_module_version": "1.5.0",
                    "model_name": "FloatProgressModel",
                    "state": {
                        "_dom_classes": [],
                        "_model_module": "@jupyter-widgets/controls",
                        "_model_module_version": "1.5.0",
                        "_model_name": "FloatProgressModel",
                        "_view_count": null,
                        "_view_module": "@jupyter-widgets/controls",
                        "_view_module_version": "1.5.0",
                        "_view_name": "ProgressView",
                        "bar_style": "success",
                        "description": "",
                        "description_tooltip": null,
                        "layout": "IPY_MODEL_d75f60b7f0b94b3d88046ac990446ad4",
                        "max": 665,
                        "min": 0,
                        "orientation": "horizontal",
                        "style": "IPY_MODEL_609d29b907424f049de6ef0b86a6541d",
                        "value": 665
                    }
                },
                "609d29b907424f049de6ef0b86a6541d": {
                    "model_module": "@jupyter-widgets/controls",
                    "model_module_version": "1.5.0",
                    "model_name": "ProgressStyleModel",
                    "state": {
                        "_model_module": "@jupyter-widgets/controls",
                        "_model_module_version": "1.5.0",
                        "_model_name": "ProgressStyleModel",
                        "_view_count": null,
                        "_view_module": "@jupyter-widgets/base",
                        "_view_module_version": "1.2.0",
                        "_view_name": "StyleView",
                        "bar_color": null,
                        "description_width": ""
                    }
                },
                "6dc9a8ca9270413893e28e3a3807dd51": {
                    "model_module": "@jupyter-widgets/base",
                    "model_module_version": "1.2.0",
                    "model_name": "LayoutModel",
                    "state": {
                        "_model_module": "@jupyter-widgets/base",
                        "_model_module_version": "1.2.0",
                        "_model_name": "LayoutModel",
                        "_view_count": null,
                        "_view_module": "@jupyter-widgets/base",
                        "_view_module_version": "1.2.0",
                        "_view_name": "LayoutView",
                        "align_content": null,
                        "align_items": null,
                        "align_self": null,
                        "border": null,
                        "bottom": null,
                        "display": null,
                        "flex": null,
                        "flex_flow": null,
                        "grid_area": null,
                        "grid_auto_columns": null,
                        "grid_auto_flow": null,
                        "grid_auto_rows": null,
                        "grid_column": null,
                        "grid_gap": null,
                        "grid_row": null,
                        "grid_template_areas": null,
                        "grid_template_columns": null,
                        "grid_template_rows": null,
                        "height": null,
                        "justify_content": null,
                        "justify_items": null,
                        "left": null,
                        "margin": null,
                        "max_height": null,
                        "max_width": null,
                        "min_height": null,
                        "min_width": null,
                        "object_fit": null,
                        "object_position": null,
                        "order": null,
                        "overflow": null,
                        "overflow_x": null,
                        "overflow_y": null,
                        "padding": null,
                        "right": null,
                        "top": null,
                        "visibility": null,
                        "width": null
                    }
                },
                "709f853d0ae846e7945c74ff83cae52e": {
                    "model_module": "@jupyter-widgets/controls",
                    "model_module_version": "1.5.0",
                    "model_name": "HTMLModel",
                    "state": {
                        "_dom_classes": [],
                        "_model_module": "@jupyter-widgets/controls",
                        "_model_module_version": "1.5.0",
                        "_model_name": "HTMLModel",
                        "_view_count": null,
                        "_view_module": "@jupyter-widgets/controls",
                        "_view_module_version": "1.5.0",
                        "_view_name": "HTMLView",
                        "description": "",
                        "description_tooltip": null,
                        "layout": "IPY_MODEL_10420e2dba3244f48c8fcd7d35904e41",
                        "placeholder": "​",
                        "style": "IPY_MODEL_d7b1b50d3f6843be90e00d3352139b2f",
                        "value": " 1.36M/1.36M [00:00&lt;00:00, 3.65MB/s]"
                    }
                },
                "755797e4682642399c367962ba737504": {
                    "model_module": "@jupyter-widgets/controls",
                    "model_module_version": "1.5.0",
                    "model_name": "HTMLModel",
                    "state": {
                        "_dom_classes": [],
                        "_model_module": "@jupyter-widgets/controls",
                        "_model_module_version": "1.5.0",
                        "_model_name": "HTMLModel",
                        "_view_count": null,
                        "_view_module": "@jupyter-widgets/controls",
                        "_view_module_version": "1.5.0",
                        "_view_name": "HTMLView",
                        "description": "",
                        "description_tooltip": null,
                        "layout": "IPY_MODEL_eb486eb0dc2f44eabcac46a18b711ff1",
                        "placeholder": "​",
                        "style": "IPY_MODEL_3e45628539864cd2b1297c2be1d35c98",
                        "value": "Downloading (…)olve/main/vocab.json: 100%"
                    }
                },
                "792a299872704c10af8061175db96031": {
                    "model_module": "@jupyter-widgets/base",
                    "model_module_version": "1.2.0",
                    "model_name": "LayoutModel",
                    "state": {
                        "_model_module": "@jupyter-widgets/base",
                        "_model_module_version": "1.2.0",
                        "_model_name": "LayoutModel",
                        "_view_count": null,
                        "_view_module": "@jupyter-widgets/base",
                        "_view_module_version": "1.2.0",
                        "_view_name": "LayoutView",
                        "align_content": null,
                        "align_items": null,
                        "align_self": null,
                        "border": null,
                        "bottom": null,
                        "display": null,
                        "flex": null,
                        "flex_flow": null,
                        "grid_area": null,
                        "grid_auto_columns": null,
                        "grid_auto_flow": null,
                        "grid_auto_rows": null,
                        "grid_column": null,
                        "grid_gap": null,
                        "grid_row": null,
                        "grid_template_areas": null,
                        "grid_template_columns": null,
                        "grid_template_rows": null,
                        "height": null,
                        "justify_content": null,
                        "justify_items": null,
                        "left": null,
                        "margin": null,
                        "max_height": null,
                        "max_width": null,
                        "min_height": null,
                        "min_width": null,
                        "object_fit": null,
                        "object_position": null,
                        "order": null,
                        "overflow": null,
                        "overflow_x": null,
                        "overflow_y": null,
                        "padding": null,
                        "right": null,
                        "top": null,
                        "visibility": null,
                        "width": null
                    }
                },
                "7bd8740ee12a486fbb3d3ae0a2c493b8": {
                    "model_module": "@jupyter-widgets/controls",
                    "model_module_version": "1.5.0",
                    "model_name": "HTMLModel",
                    "state": {
                        "_dom_classes": [],
                        "_model_module": "@jupyter-widgets/controls",
                        "_model_module_version": "1.5.0",
                        "_model_name": "HTMLModel",
                        "_view_count": null,
                        "_view_module": "@jupyter-widgets/controls",
                        "_view_module_version": "1.5.0",
                        "_view_name": "HTMLView",
                        "description": "",
                        "description_tooltip": null,
                        "layout": "IPY_MODEL_6dc9a8ca9270413893e28e3a3807dd51",
                        "placeholder": "​",
                        "style": "IPY_MODEL_4539f47e9e4c444e9f610dea60db5eb0",
                        "value": " 665/665 [00:00&lt;00:00, 18.8kB/s]"
                    }
                },
                "7e96275c58434a04a49e56598b12656a": {
                    "model_module": "@jupyter-widgets/base",
                    "model_module_version": "1.2.0",
                    "model_name": "LayoutModel",
                    "state": {
                        "_model_module": "@jupyter-widgets/base",
                        "_model_module_version": "1.2.0",
                        "_model_name": "LayoutModel",
                        "_view_count": null,
                        "_view_module": "@jupyter-widgets/base",
                        "_view_module_version": "1.2.0",
                        "_view_name": "LayoutView",
                        "align_content": null,
                        "align_items": null,
                        "align_self": null,
                        "border": null,
                        "bottom": null,
                        "display": null,
                        "flex": null,
                        "flex_flow": null,
                        "grid_area": null,
                        "grid_auto_columns": null,
                        "grid_auto_flow": null,
                        "grid_auto_rows": null,
                        "grid_column": null,
                        "grid_gap": null,
                        "grid_row": null,
                        "grid_template_areas": null,
                        "grid_template_columns": null,
                        "grid_template_rows": null,
                        "height": null,
                        "justify_content": null,
                        "justify_items": null,
                        "left": null,
                        "margin": null,
                        "max_height": null,
                        "max_width": null,
                        "min_height": null,
                        "min_width": null,
                        "object_fit": null,
                        "object_position": null,
                        "order": null,
                        "overflow": null,
                        "overflow_x": null,
                        "overflow_y": null,
                        "padding": null,
                        "right": null,
                        "top": null,
                        "visibility": null,
                        "width": null
                    }
                },
                "8e1f2102db184538a35ed9c8498d5bbc": {
                    "model_module": "@jupyter-widgets/base",
                    "model_module_version": "1.2.0",
                    "model_name": "LayoutModel",
                    "state": {
                        "_model_module": "@jupyter-widgets/base",
                        "_model_module_version": "1.2.0",
                        "_model_name": "LayoutModel",
                        "_view_count": null,
                        "_view_module": "@jupyter-widgets/base",
                        "_view_module_version": "1.2.0",
                        "_view_name": "LayoutView",
                        "align_content": null,
                        "align_items": null,
                        "align_self": null,
                        "border": null,
                        "bottom": null,
                        "display": null,
                        "flex": null,
                        "flex_flow": null,
                        "grid_area": null,
                        "grid_auto_columns": null,
                        "grid_auto_flow": null,
                        "grid_auto_rows": null,
                        "grid_column": null,
                        "grid_gap": null,
                        "grid_row": null,
                        "grid_template_areas": null,
                        "grid_template_columns": null,
                        "grid_template_rows": null,
                        "height": null,
                        "justify_content": null,
                        "justify_items": null,
                        "left": null,
                        "margin": null,
                        "max_height": null,
                        "max_width": null,
                        "min_height": null,
                        "min_width": null,
                        "object_fit": null,
                        "object_position": null,
                        "order": null,
                        "overflow": null,
                        "overflow_x": null,
                        "overflow_y": null,
                        "padding": null,
                        "right": null,
                        "top": null,
                        "visibility": null,
                        "width": null
                    }
                },
                "94343417f60a4f9d9a745dfa2c967893": {
                    "model_module": "@jupyter-widgets/base",
                    "model_module_version": "1.2.0",
                    "model_name": "LayoutModel",
                    "state": {
                        "_model_module": "@jupyter-widgets/base",
                        "_model_module_version": "1.2.0",
                        "_model_name": "LayoutModel",
                        "_view_count": null,
                        "_view_module": "@jupyter-widgets/base",
                        "_view_module_version": "1.2.0",
                        "_view_name": "LayoutView",
                        "align_content": null,
                        "align_items": null,
                        "align_self": null,
                        "border": null,
                        "bottom": null,
                        "display": null,
                        "flex": null,
                        "flex_flow": null,
                        "grid_area": null,
                        "grid_auto_columns": null,
                        "grid_auto_flow": null,
                        "grid_auto_rows": null,
                        "grid_column": null,
                        "grid_gap": null,
                        "grid_row": null,
                        "grid_template_areas": null,
                        "grid_template_columns": null,
                        "grid_template_rows": null,
                        "height": null,
                        "justify_content": null,
                        "justify_items": null,
                        "left": null,
                        "margin": null,
                        "max_height": null,
                        "max_width": null,
                        "min_height": null,
                        "min_width": null,
                        "object_fit": null,
                        "object_position": null,
                        "order": null,
                        "overflow": null,
                        "overflow_x": null,
                        "overflow_y": null,
                        "padding": null,
                        "right": null,
                        "top": null,
                        "visibility": null,
                        "width": null
                    }
                },
                "9bf6e3e259cd4bc0bd4c714c725d0782": {
                    "model_module": "@jupyter-widgets/controls",
                    "model_module_version": "1.5.0",
                    "model_name": "DescriptionStyleModel",
                    "state": {
                        "_model_module": "@jupyter-widgets/controls",
                        "_model_module_version": "1.5.0",
                        "_model_name": "DescriptionStyleModel",
                        "_view_count": null,
                        "_view_module": "@jupyter-widgets/base",
                        "_view_module_version": "1.2.0",
                        "_view_name": "StyleView",
                        "description_width": ""
                    }
                },
                "a292f2af029c4340813e63370bf73f12": {
                    "model_module": "@jupyter-widgets/controls",
                    "model_module_version": "1.5.0",
                    "model_name": "HBoxModel",
                    "state": {
                        "_dom_classes": [],
                        "_model_module": "@jupyter-widgets/controls",
                        "_model_module_version": "1.5.0",
                        "_model_name": "HBoxModel",
                        "_view_count": null,
                        "_view_module": "@jupyter-widgets/controls",
                        "_view_module_version": "1.5.0",
                        "_view_name": "HBoxView",
                        "box_style": "",
                        "children": [
                            "IPY_MODEL_755797e4682642399c367962ba737504",
                            "IPY_MODEL_548c125bc716475ba6708fa80f5b1b61",
                            "IPY_MODEL_37cf19bcc68d41d7bc6b411cd273a88c"
                        ],
                        "layout": "IPY_MODEL_ebc4716ea8d849c58c43c26f5caf18fe"
                    }
                },
                "a8bae11fb1aa40348e611a1592e0ff0a": {
                    "model_module": "@jupyter-widgets/base",
                    "model_module_version": "1.2.0",
                    "model_name": "LayoutModel",
                    "state": {
                        "_model_module": "@jupyter-widgets/base",
                        "_model_module_version": "1.2.0",
                        "_model_name": "LayoutModel",
                        "_view_count": null,
                        "_view_module": "@jupyter-widgets/base",
                        "_view_module_version": "1.2.0",
                        "_view_name": "LayoutView",
                        "align_content": null,
                        "align_items": null,
                        "align_self": null,
                        "border": null,
                        "bottom": null,
                        "display": null,
                        "flex": null,
                        "flex_flow": null,
                        "grid_area": null,
                        "grid_auto_columns": null,
                        "grid_auto_flow": null,
                        "grid_auto_rows": null,
                        "grid_column": null,
                        "grid_gap": null,
                        "grid_row": null,
                        "grid_template_areas": null,
                        "grid_template_columns": null,
                        "grid_template_rows": null,
                        "height": null,
                        "justify_content": null,
                        "justify_items": null,
                        "left": null,
                        "margin": null,
                        "max_height": null,
                        "max_width": null,
                        "min_height": null,
                        "min_width": null,
                        "object_fit": null,
                        "object_position": null,
                        "order": null,
                        "overflow": null,
                        "overflow_x": null,
                        "overflow_y": null,
                        "padding": null,
                        "right": null,
                        "top": null,
                        "visibility": null,
                        "width": null
                    }
                },
                "afe741aff3f54ae6a89b5965888599f4": {
                    "model_module": "@jupyter-widgets/controls",
                    "model_module_version": "1.5.0",
                    "model_name": "ProgressStyleModel",
                    "state": {
                        "_model_module": "@jupyter-widgets/controls",
                        "_model_module_version": "1.5.0",
                        "_model_name": "ProgressStyleModel",
                        "_view_count": null,
                        "_view_module": "@jupyter-widgets/base",
                        "_view_module_version": "1.2.0",
                        "_view_name": "StyleView",
                        "bar_color": null,
                        "description_width": ""
                    }
                },
                "b1c406aebffa49f48c3457a9482a47a3": {
                    "model_module": "@jupyter-widgets/controls",
                    "model_module_version": "1.5.0",
                    "model_name": "ProgressStyleModel",
                    "state": {
                        "_model_module": "@jupyter-widgets/controls",
                        "_model_module_version": "1.5.0",
                        "_model_name": "ProgressStyleModel",
                        "_view_count": null,
                        "_view_module": "@jupyter-widgets/base",
                        "_view_module_version": "1.2.0",
                        "_view_name": "StyleView",
                        "bar_color": null,
                        "description_width": ""
                    }
                },
                "b2653a474569425ebb546f93241a465e": {
                    "model_module": "@jupyter-widgets/controls",
                    "model_module_version": "1.5.0",
                    "model_name": "DescriptionStyleModel",
                    "state": {
                        "_model_module": "@jupyter-widgets/controls",
                        "_model_module_version": "1.5.0",
                        "_model_name": "DescriptionStyleModel",
                        "_view_count": null,
                        "_view_module": "@jupyter-widgets/base",
                        "_view_module_version": "1.2.0",
                        "_view_name": "StyleView",
                        "description_width": ""
                    }
                },
                "bbdfb7b736f546fea9f2a56a815a8e8f": {
                    "model_module": "@jupyter-widgets/controls",
                    "model_module_version": "1.5.0",
                    "model_name": "HBoxModel",
                    "state": {
                        "_dom_classes": [],
                        "_model_module": "@jupyter-widgets/controls",
                        "_model_module_version": "1.5.0",
                        "_model_name": "HBoxModel",
                        "_view_count": null,
                        "_view_module": "@jupyter-widgets/controls",
                        "_view_module_version": "1.5.0",
                        "_view_name": "HBoxView",
                        "box_style": "",
                        "children": [
                            "IPY_MODEL_0dc1dea99b774b74a84c9c02b6335b94",
                            "IPY_MODEL_5edb09d55e7b45c881bbf6a38de92f60",
                            "IPY_MODEL_7bd8740ee12a486fbb3d3ae0a2c493b8"
                        ],
                        "layout": "IPY_MODEL_fa9eff66d6084f0a970408b620afa686"
                    }
                },
                "d75f60b7f0b94b3d88046ac990446ad4": {
                    "model_module": "@jupyter-widgets/base",
                    "model_module_version": "1.2.0",
                    "model_name": "LayoutModel",
                    "state": {
                        "_model_module": "@jupyter-widgets/base",
                        "_model_module_version": "1.2.0",
                        "_model_name": "LayoutModel",
                        "_view_count": null,
                        "_view_module": "@jupyter-widgets/base",
                        "_view_module_version": "1.2.0",
                        "_view_name": "LayoutView",
                        "align_content": null,
                        "align_items": null,
                        "align_self": null,
                        "border": null,
                        "bottom": null,
                        "display": null,
                        "flex": null,
                        "flex_flow": null,
                        "grid_area": null,
                        "grid_auto_columns": null,
                        "grid_auto_flow": null,
                        "grid_auto_rows": null,
                        "grid_column": null,
                        "grid_gap": null,
                        "grid_row": null,
                        "grid_template_areas": null,
                        "grid_template_columns": null,
                        "grid_template_rows": null,
                        "height": null,
                        "justify_content": null,
                        "justify_items": null,
                        "left": null,
                        "margin": null,
                        "max_height": null,
                        "max_width": null,
                        "min_height": null,
                        "min_width": null,
                        "object_fit": null,
                        "object_position": null,
                        "order": null,
                        "overflow": null,
                        "overflow_x": null,
                        "overflow_y": null,
                        "padding": null,
                        "right": null,
                        "top": null,
                        "visibility": null,
                        "width": null
                    }
                },
                "d7b1b50d3f6843be90e00d3352139b2f": {
                    "model_module": "@jupyter-widgets/controls",
                    "model_module_version": "1.5.0",
                    "model_name": "DescriptionStyleModel",
                    "state": {
                        "_model_module": "@jupyter-widgets/controls",
                        "_model_module_version": "1.5.0",
                        "_model_name": "DescriptionStyleModel",
                        "_view_count": null,
                        "_view_module": "@jupyter-widgets/base",
                        "_view_module_version": "1.2.0",
                        "_view_name": "StyleView",
                        "description_width": ""
                    }
                },
                "eb486eb0dc2f44eabcac46a18b711ff1": {
                    "model_module": "@jupyter-widgets/base",
                    "model_module_version": "1.2.0",
                    "model_name": "LayoutModel",
                    "state": {
                        "_model_module": "@jupyter-widgets/base",
                        "_model_module_version": "1.2.0",
                        "_model_name": "LayoutModel",
                        "_view_count": null,
                        "_view_module": "@jupyter-widgets/base",
                        "_view_module_version": "1.2.0",
                        "_view_name": "LayoutView",
                        "align_content": null,
                        "align_items": null,
                        "align_self": null,
                        "border": null,
                        "bottom": null,
                        "display": null,
                        "flex": null,
                        "flex_flow": null,
                        "grid_area": null,
                        "grid_auto_columns": null,
                        "grid_auto_flow": null,
                        "grid_auto_rows": null,
                        "grid_column": null,
                        "grid_gap": null,
                        "grid_row": null,
                        "grid_template_areas": null,
                        "grid_template_columns": null,
                        "grid_template_rows": null,
                        "height": null,
                        "justify_content": null,
                        "justify_items": null,
                        "left": null,
                        "margin": null,
                        "max_height": null,
                        "max_width": null,
                        "min_height": null,
                        "min_width": null,
                        "object_fit": null,
                        "object_position": null,
                        "order": null,
                        "overflow": null,
                        "overflow_x": null,
                        "overflow_y": null,
                        "padding": null,
                        "right": null,
                        "top": null,
                        "visibility": null,
                        "width": null
                    }
                },
                "ebc4716ea8d849c58c43c26f5caf18fe": {
                    "model_module": "@jupyter-widgets/base",
                    "model_module_version": "1.2.0",
                    "model_name": "LayoutModel",
                    "state": {
                        "_model_module": "@jupyter-widgets/base",
                        "_model_module_version": "1.2.0",
                        "_model_name": "LayoutModel",
                        "_view_count": null,
                        "_view_module": "@jupyter-widgets/base",
                        "_view_module_version": "1.2.0",
                        "_view_name": "LayoutView",
                        "align_content": null,
                        "align_items": null,
                        "align_self": null,
                        "border": null,
                        "bottom": null,
                        "display": null,
                        "flex": null,
                        "flex_flow": null,
                        "grid_area": null,
                        "grid_auto_columns": null,
                        "grid_auto_flow": null,
                        "grid_auto_rows": null,
                        "grid_column": null,
                        "grid_gap": null,
                        "grid_row": null,
                        "grid_template_areas": null,
                        "grid_template_columns": null,
                        "grid_template_rows": null,
                        "height": null,
                        "justify_content": null,
                        "justify_items": null,
                        "left": null,
                        "margin": null,
                        "max_height": null,
                        "max_width": null,
                        "min_height": null,
                        "min_width": null,
                        "object_fit": null,
                        "object_position": null,
                        "order": null,
                        "overflow": null,
                        "overflow_x": null,
                        "overflow_y": null,
                        "padding": null,
                        "right": null,
                        "top": null,
                        "visibility": null,
                        "width": null
                    }
                },
                "ef339a504f984cc2ac07c8252aa2f6d5": {
                    "model_module": "@jupyter-widgets/controls",
                    "model_module_version": "1.5.0",
                    "model_name": "HTMLModel",
                    "state": {
                        "_dom_classes": [],
                        "_model_module": "@jupyter-widgets/controls",
                        "_model_module_version": "1.5.0",
                        "_model_name": "HTMLModel",
                        "_view_count": null,
                        "_view_module": "@jupyter-widgets/controls",
                        "_view_module_version": "1.5.0",
                        "_view_name": "HTMLView",
                        "description": "",
                        "description_tooltip": null,
                        "layout": "IPY_MODEL_a8bae11fb1aa40348e611a1592e0ff0a",
                        "placeholder": "​",
                        "style": "IPY_MODEL_9bf6e3e259cd4bc0bd4c714c725d0782",
                        "value": " 456k/456k [00:00&lt;00:00, 1.84MB/s]"
                    }
                },
                "f0963a05a29d4e6f8a2ab48fc8a26a1d": {
                    "model_module": "@jupyter-widgets/controls",
                    "model_module_version": "1.5.0",
                    "model_name": "HTMLModel",
                    "state": {
                        "_dom_classes": [],
                        "_model_module": "@jupyter-widgets/controls",
                        "_model_module_version": "1.5.0",
                        "_model_name": "HTMLModel",
                        "_view_count": null,
                        "_view_module": "@jupyter-widgets/controls",
                        "_view_module_version": "1.5.0",
                        "_view_name": "HTMLView",
                        "description": "",
                        "description_tooltip": null,
                        "layout": "IPY_MODEL_7e96275c58434a04a49e56598b12656a",
                        "placeholder": "​",
                        "style": "IPY_MODEL_b2653a474569425ebb546f93241a465e",
                        "value": "Downloading (…)olve/main/merges.txt: 100%"
                    }
                },
                "f6331afe201d49319b76e528e01a9b4b": {
                    "model_module": "@jupyter-widgets/controls",
                    "model_module_version": "1.5.0",
                    "model_name": "DescriptionStyleModel",
                    "state": {
                        "_model_module": "@jupyter-widgets/controls",
                        "_model_module_version": "1.5.0",
                        "_model_name": "DescriptionStyleModel",
                        "_view_count": null,
                        "_view_module": "@jupyter-widgets/base",
                        "_view_module_version": "1.2.0",
                        "_view_name": "StyleView",
                        "description_width": ""
                    }
                },
                "fa9eff66d6084f0a970408b620afa686": {
                    "model_module": "@jupyter-widgets/base",
                    "model_module_version": "1.2.0",
                    "model_name": "LayoutModel",
                    "state": {
                        "_model_module": "@jupyter-widgets/base",
                        "_model_module_version": "1.2.0",
                        "_model_name": "LayoutModel",
                        "_view_count": null,
                        "_view_module": "@jupyter-widgets/base",
                        "_view_module_version": "1.2.0",
                        "_view_name": "LayoutView",
                        "align_content": null,
                        "align_items": null,
                        "align_self": null,
                        "border": null,
                        "bottom": null,
                        "display": null,
                        "flex": null,
                        "flex_flow": null,
                        "grid_area": null,
                        "grid_auto_columns": null,
                        "grid_auto_flow": null,
                        "grid_auto_rows": null,
                        "grid_column": null,
                        "grid_gap": null,
                        "grid_row": null,
                        "grid_template_areas": null,
                        "grid_template_columns": null,
                        "grid_template_rows": null,
                        "height": null,
                        "justify_content": null,
                        "justify_items": null,
                        "left": null,
                        "margin": null,
                        "max_height": null,
                        "max_width": null,
                        "min_height": null,
                        "min_width": null,
                        "object_fit": null,
                        "object_position": null,
                        "order": null,
                        "overflow": null,
                        "overflow_x": null,
                        "overflow_y": null,
                        "padding": null,
                        "right": null,
                        "top": null,
                        "visibility": null,
                        "width": null
                    }
                }
            }
        }
    },
    "nbformat": 4,
    "nbformat_minor": 5
}
